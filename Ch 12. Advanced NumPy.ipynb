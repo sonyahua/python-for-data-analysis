{
 "cells": [
  {
   "cell_type": "markdown",
   "metadata": {},
   "source": [
    "### Reshaping Arrays "
   ]
  },
  {
   "cell_type": "code",
   "execution_count": 3,
   "metadata": {},
   "outputs": [
    {
     "data": {
      "text/plain": [
       "array([0, 1, 2, 3, 4, 5, 6, 7])"
      ]
     },
     "execution_count": 3,
     "metadata": {},
     "output_type": "execute_result"
    }
   ],
   "source": [
    "import numpy as np\n",
    "import pandas as pd\n",
    "\n",
    "arr = np.arange(8)\n",
    "\n",
    "arr"
   ]
  },
  {
   "cell_type": "code",
   "execution_count": 4,
   "metadata": {},
   "outputs": [
    {
     "data": {
      "text/plain": [
       "array([[0, 1, 2, 3],\n",
       "       [4, 5, 6, 7]])"
      ]
     },
     "execution_count": 4,
     "metadata": {},
     "output_type": "execute_result"
    }
   ],
   "source": [
    "arr.reshape(2,4)"
   ]
  },
  {
   "cell_type": "code",
   "execution_count": 5,
   "metadata": {},
   "outputs": [
    {
     "data": {
      "text/plain": [
       "array([[0, 1, 2, 3],\n",
       "       [4, 5, 6, 7]])"
      ]
     },
     "execution_count": 5,
     "metadata": {},
     "output_type": "execute_result"
    }
   ],
   "source": [
    "# Multidimensional array can also be reshaped\n",
    "\n",
    "arr.reshape((4,2)).reshape((2,4))"
   ]
  },
  {
   "cell_type": "code",
   "execution_count": 6,
   "metadata": {},
   "outputs": [
    {
     "data": {
      "text/plain": [
       "array([[ 0,  1,  2,  3,  4],\n",
       "       [ 5,  6,  7,  8,  9],\n",
       "       [10, 11, 12, 13, 14]])"
      ]
     },
     "execution_count": 6,
     "metadata": {},
     "output_type": "execute_result"
    }
   ],
   "source": [
    "# Put in -1 for shape dimensions in which case the value will be inferred from the data\n",
    "\n",
    "arr =np.arange(15)\n",
    "\n",
    "arr.reshape(3,-1)  # system inferred 5"
   ]
  },
  {
   "cell_type": "code",
   "execution_count": 7,
   "metadata": {},
   "outputs": [
    {
     "data": {
      "text/plain": [
       "(3L, 5L)"
      ]
     },
     "execution_count": 7,
     "metadata": {},
     "output_type": "execute_result"
    }
   ],
   "source": [
    "other_arr = np.ones((3,5))\n",
    "other_arr.shape #attribute"
   ]
  },
  {
   "cell_type": "code",
   "execution_count": 8,
   "metadata": {},
   "outputs": [
    {
     "data": {
      "text/plain": [
       "array([[ 0,  1,  2,  3,  4],\n",
       "       [ 5,  6,  7,  8,  9],\n",
       "       [10, 11, 12, 13, 14]])"
      ]
     },
     "execution_count": 8,
     "metadata": {},
     "output_type": "execute_result"
    }
   ],
   "source": [
    "arr.reshape(other_arr.shape)"
   ]
  },
  {
   "cell_type": "code",
   "execution_count": 9,
   "metadata": {},
   "outputs": [
    {
     "data": {
      "text/plain": [
       "array([[ 0,  1,  2],\n",
       "       [ 3,  4,  5],\n",
       "       [ 6,  7,  8],\n",
       "       [ 9, 10, 11],\n",
       "       [12, 13, 14]])"
      ]
     },
     "execution_count": 9,
     "metadata": {},
     "output_type": "execute_result"
    }
   ],
   "source": [
    "# flattening: from higher dimension to one dimension returns a copy of the data\n",
    "\n",
    "arr = np.arange(15).reshape((5,3))\n",
    "\n",
    "arr"
   ]
  },
  {
   "cell_type": "code",
   "execution_count": 10,
   "metadata": {},
   "outputs": [
    {
     "data": {
      "text/plain": [
       "array([ 0,  1,  2,  3,  4,  5,  6,  7,  8,  9, 10, 11, 12, 13, 14])"
      ]
     },
     "execution_count": 10,
     "metadata": {},
     "output_type": "execute_result"
    }
   ],
   "source": [
    "arr.flatten()"
   ]
  },
  {
   "cell_type": "code",
   "execution_count": 11,
   "metadata": {},
   "outputs": [
    {
     "data": {
      "text/plain": [
       "array([ 0,  1,  2,  3,  4,  5,  6,  7,  8,  9, 10, 11, 12, 13, 14])"
      ]
     },
     "execution_count": 11,
     "metadata": {},
     "output_type": "execute_result"
    }
   ],
   "source": [
    "arr.ravel() # does not produce a copy of the data if doesn't have to"
   ]
  },
  {
   "cell_type": "code",
   "execution_count": 12,
   "metadata": {},
   "outputs": [
    {
     "data": {
      "text/plain": [
       "array([[ 0,  1,  2],\n",
       "       [ 3,  4,  5],\n",
       "       [ 6,  7,  8],\n",
       "       [ 9, 10, 11],\n",
       "       [12, 13, 14]])"
      ]
     },
     "execution_count": 12,
     "metadata": {},
     "output_type": "execute_result"
    }
   ],
   "source": [
    "arr"
   ]
  },
  {
   "cell_type": "markdown",
   "metadata": {},
   "source": [
    "### Concatenating and Splitting Arrays\n",
    "\n",
    "`numpy.concatenate` takes a sequence of arrays and joins them together along an axis"
   ]
  },
  {
   "cell_type": "code",
   "execution_count": 16,
   "metadata": {},
   "outputs": [
    {
     "name": "stdout",
     "output_type": "stream",
     "text": [
      "[[ 1  2  3]\n",
      " [ 4  5  6]\n",
      " [ 7  8  9]\n",
      " [10 11 12]]\n",
      "[[ 1  2  3]\n",
      " [ 4  5  6]\n",
      " [ 7  8  9]\n",
      " [10 11 12]]\n",
      "[[ 1  2  3  7  8  9]\n",
      " [ 4  5  6 10 11 12]]\n",
      "[[ 1  2  3  7  8  9]\n",
      " [ 4  5  6 10 11 12]]\n"
     ]
    }
   ],
   "source": [
    "arr1 = np.array([[1,2,3], [4,5,6]])\n",
    "arr2=np.array([[7,8,9], [10,11,12]])\n",
    "\n",
    "print np.concatenate([arr1, arr2], axis=0) #changes rows\n",
    "print np.vstack((arr1,arr2))\n",
    "\n",
    "\n",
    "print np.concatenate([arr1,arr2], axis=1) # changes columns\n",
    "print np.hstack((arr1,arr2))"
   ]
  },
  {
   "cell_type": "markdown",
   "metadata": {},
   "source": [
    "** split(arr, indices)**\n",
    "\n",
    "indices : inicates where along axis the array is split. If it's an integar (N), then the array will be split into N equal parts "
   ]
  },
  {
   "cell_type": "code",
   "execution_count": 17,
   "metadata": {},
   "outputs": [
    {
     "data": {
      "text/plain": [
       "array([[-0.25799264, -0.22810004],\n",
       "       [-0.86273416,  0.6731616 ],\n",
       "       [ 1.20783482,  1.34786143],\n",
       "       [-0.48672972, -0.15379991],\n",
       "       [-1.85281013,  1.42949362]])"
      ]
     },
     "execution_count": 17,
     "metadata": {},
     "output_type": "execute_result"
    }
   ],
   "source": [
    "# split slices apart an array into multiple arrays along an axis\n",
    "\n",
    "from numpy.random import randn\n",
    "\n",
    "arr = randn(5,2)\n",
    "\n",
    "arr"
   ]
  },
  {
   "cell_type": "code",
   "execution_count": 23,
   "metadata": {},
   "outputs": [
    {
     "name": "stdout",
     "output_type": "stream",
     "text": [
      "[[-0.25799264 -0.22810004]]\n",
      "\n",
      "[[-0.86273416  0.6731616 ]\n",
      " [ 1.20783482  1.34786143]]\n",
      "\n",
      "[[-0.48672972 -0.15379991]\n",
      " [-1.85281013  1.42949362]]\n"
     ]
    }
   ],
   "source": [
    "first, second, third = np.split(arr, [1,3])\n",
    "\n",
    "print first # arr[:1]\n",
    "print''\n",
    "print second # arr[1:2]\n",
    "print ''\n",
    "print third # arr[2:3]"
   ]
  },
  {
   "cell_type": "markdown",
   "metadata": {},
   "source": [
    "### Fancy Indexing Equivalents: take and put\n",
    "\n",
    "One way to get and set subsets of arrays is by fancy indexing using integer arrays"
   ]
  },
  {
   "cell_type": "code",
   "execution_count": 26,
   "metadata": {},
   "outputs": [
    {
     "data": {
      "text/plain": [
       "array([700, 100, 200, 600])"
      ]
     },
     "execution_count": 26,
     "metadata": {},
     "output_type": "execute_result"
    }
   ],
   "source": [
    "arr = np.arange(10) * 100\n",
    "\n",
    "inds = [7,1,2,6]\n",
    "\n",
    "arr[inds]"
   ]
  },
  {
   "cell_type": "code",
   "execution_count": 27,
   "metadata": {},
   "outputs": [
    {
     "data": {
      "text/plain": [
       "array([700, 100, 200, 600])"
      ]
     },
     "execution_count": 27,
     "metadata": {},
     "output_type": "execute_result"
    }
   ],
   "source": [
    "# An alternate method is to use take\n",
    "\n",
    "arr.take(inds)"
   ]
  },
  {
   "cell_type": "code",
   "execution_count": 30,
   "metadata": {},
   "outputs": [
    {
     "data": {
      "text/plain": [
       "array([     0, 424242, 424242,    300,    400,    500, 424242, 424242,\n",
       "          800,    900])"
      ]
     },
     "execution_count": 30,
     "metadata": {},
     "output_type": "execute_result"
    }
   ],
   "source": [
    "# to replace values at an index with another value, we can use put\n",
    "\n",
    "arr.put(inds, 424242)\n",
    "\n",
    "arr"
   ]
  },
  {
   "cell_type": "code",
   "execution_count": 32,
   "metadata": {},
   "outputs": [
    {
     "data": {
      "text/plain": [
       "array([  0,  41,  42, 300, 400, 500,  43,  40, 800, 900])"
      ]
     },
     "execution_count": 32,
     "metadata": {},
     "output_type": "execute_result"
    }
   ],
   "source": [
    "arr.put(inds, [40,41,42,43]) # Per index, input number in array\n",
    "arr"
   ]
  },
  {
   "cell_type": "code",
   "execution_count": 33,
   "metadata": {},
   "outputs": [
    {
     "data": {
      "text/plain": [
       "array([[ 0.26658552,  0.25641679,  0.31177091, -1.07536502],\n",
       "       [-0.71682836,  0.0089269 , -1.55081869, -0.0032271 ]])"
      ]
     },
     "execution_count": 33,
     "metadata": {},
     "output_type": "execute_result"
    }
   ],
   "source": [
    "# To use take along other axes, we can pass the axis keyword\n",
    "\n",
    "inds=[2,0,2,1]\n",
    "\n",
    "arr=randn(2,4)\n",
    "\n",
    "arr"
   ]
  },
  {
   "cell_type": "code",
   "execution_count": 35,
   "metadata": {},
   "outputs": [
    {
     "data": {
      "text/plain": [
       "array([[ 0.31177091,  0.26658552,  0.31177091,  0.25641679],\n",
       "       [-1.55081869, -0.71682836, -1.55081869,  0.0089269 ]])"
      ]
     },
     "execution_count": 35,
     "metadata": {},
     "output_type": "execute_result"
    }
   ],
   "source": [
    "arr.take(inds,axis=1) # taking column 2, 0, 2, 1"
   ]
  },
  {
   "cell_type": "markdown",
   "metadata": {},
   "source": [
    "### Broadcasting\n",
    "\n",
    "Describes how arithmetic works between arrays of different shapes. It can be easily misunderstood however.\n",
    "\n",
    "**Follow the rule: 2 Arrays are compatible for broadcasting if for each trailing dimension (starting from the end), the axis lengths match or if either of the lengths = 1. Broadcasting is then performed over the missing and / or length 1 dimensions**"
   ]
  },
  {
   "cell_type": "code",
   "execution_count": 40,
   "metadata": {},
   "outputs": [
    {
     "data": {
      "text/plain": [
       "array([ 0,  4,  8, 12, 16])"
      ]
     },
     "execution_count": 40,
     "metadata": {},
     "output_type": "execute_result"
    }
   ],
   "source": [
    "arr = np.arange(5)\n",
    "\n",
    "arr * 4 # arithmetic on every elmeent of the array or broadcasted to all elements"
   ]
  },
  {
   "cell_type": "code",
   "execution_count": 41,
   "metadata": {},
   "outputs": [
    {
     "data": {
      "text/plain": [
       "array([[-1.20637123, -0.21027611, -1.06106911],\n",
       "       [ 0.09104132,  1.55749126, -1.29406101],\n",
       "       [-1.26023739, -0.57713345,  0.06221236],\n",
       "       [ 0.35295214,  0.33398626,  0.15438978]])"
      ]
     },
     "execution_count": 41,
     "metadata": {},
     "output_type": "execute_result"
    }
   ],
   "source": [
    "arr = randn(4,3)\n",
    "arr"
   ]
  },
  {
   "cell_type": "code",
   "execution_count": 42,
   "metadata": {},
   "outputs": [
    {
     "data": {
      "text/plain": [
       "array([-0.50565379,  0.27601699, -0.534632  ])"
      ]
     },
     "execution_count": 42,
     "metadata": {},
     "output_type": "execute_result"
    }
   ],
   "source": [
    "arr.mean(0) # provide a mean along axis 0 "
   ]
  },
  {
   "cell_type": "markdown",
   "metadata": {},
   "source": [
    "We wish to subtract the mean value from each row. Since arr.mean(0) has length 3, it is compatible for broadcasting across axis 0 since the trailing dimension in arr is 3. "
   ]
  },
  {
   "cell_type": "code",
   "execution_count": 44,
   "metadata": {},
   "outputs": [
    {
     "data": {
      "text/plain": [
       "array([[-0.70071744, -0.4862931 , -0.52643712],\n",
       "       [ 0.59669511,  1.28147427, -0.75942902],\n",
       "       [-0.7545836 , -0.85315044,  0.59684435],\n",
       "       [ 0.85860593,  0.05796927,  0.68902178]])"
      ]
     },
     "execution_count": 44,
     "metadata": {},
     "output_type": "execute_result"
    }
   ],
   "source": [
    "# demean each column by subtracting hte column means\n",
    "\n",
    "demeaned = arr - arr.mean(0)\n",
    "demeaned"
   ]
  },
  {
   "cell_type": "markdown",
   "metadata": {},
   "source": [
    "To subtract over axis 1 (subtracting the row mean from each row), the smaller array must have shape (4,1)"
   ]
  },
  {
   "cell_type": "code",
   "execution_count": 45,
   "metadata": {},
   "outputs": [
    {
     "data": {
      "text/plain": [
       "array([[-1.20637123, -0.21027611, -1.06106911],\n",
       "       [ 0.09104132,  1.55749126, -1.29406101],\n",
       "       [-1.26023739, -0.57713345,  0.06221236],\n",
       "       [ 0.35295214,  0.33398626,  0.15438978]])"
      ]
     },
     "execution_count": 45,
     "metadata": {},
     "output_type": "execute_result"
    }
   ],
   "source": [
    "arr"
   ]
  },
  {
   "cell_type": "code",
   "execution_count": 48,
   "metadata": {},
   "outputs": [
    {
     "data": {
      "text/plain": [
       "array([-0.82590549,  0.11815719, -0.5917195 ,  0.28044273])"
      ]
     },
     "execution_count": 48,
     "metadata": {},
     "output_type": "execute_result"
    }
   ],
   "source": [
    "row_means = arr.mean(1)\n",
    "row_means # 4x1 array"
   ]
  },
  {
   "cell_type": "code",
   "execution_count": 54,
   "metadata": {},
   "outputs": [
    {
     "name": "stdout",
     "output_type": "stream",
     "text": [
      "[[-1.20637123 -0.21027611 -1.06106911]\n",
      " [ 0.09104132  1.55749126 -1.29406101]\n",
      " [-1.26023739 -0.57713345  0.06221236]\n",
      " [ 0.35295214  0.33398626  0.15438978]]\n",
      "[[-0.82590549]\n",
      " [ 0.11815719]\n",
      " [-0.5917195 ]\n",
      " [ 0.28044273]]\n"
     ]
    }
   ],
   "source": [
    "#  row_means's last trailing dimension must be 1\n",
    "\n",
    "print arr # 4x3 array\n",
    "print row_means.reshape(4,1)"
   ]
  },
  {
   "cell_type": "code",
   "execution_count": 57,
   "metadata": {},
   "outputs": [
    {
     "data": {
      "text/plain": [
       "array([-0.57114922,  0.37291346, -0.33696323,  0.53519899])"
      ]
     },
     "execution_count": 57,
     "metadata": {},
     "output_type": "execute_result"
    }
   ],
   "source": [
    "deamaned = arr - row_means.reshape((4,1))\n",
    "demeaned.mean(1)"
   ]
  },
  {
   "cell_type": "markdown",
   "metadata": {},
   "source": [
    "### Sorting\n",
    "\n",
    "The ndarray `sort` instance method is an in-place sort with replacement"
   ]
  },
  {
   "cell_type": "code",
   "execution_count": 59,
   "metadata": {},
   "outputs": [
    {
     "data": {
      "text/plain": [
       "array([-0.15208162,  0.20742022,  0.31048611,  0.39781354,  0.46541068,\n",
       "        0.69374075])"
      ]
     },
     "execution_count": 59,
     "metadata": {},
     "output_type": "execute_result"
    }
   ],
   "source": [
    "arr = randn(6)\n",
    "\n",
    "arr.sort()\n",
    "\n",
    "arr"
   ]
  },
  {
   "cell_type": "code",
   "execution_count": 60,
   "metadata": {},
   "outputs": [
    {
     "data": {
      "text/plain": [
       "array([[-0.91145304, -0.55908415, -2.10700118,  1.68774727, -0.78536204],\n",
       "       [-2.82665686,  1.11442093, -1.13903283,  0.19387754, -0.63080674],\n",
       "       [ 0.10714136,  0.95794439, -2.41085742, -0.38911444,  1.1774424 ]])"
      ]
     },
     "execution_count": 60,
     "metadata": {},
     "output_type": "execute_result"
    }
   ],
   "source": [
    "arr = randn(3,5)\n",
    "\n",
    "arr"
   ]
  },
  {
   "cell_type": "code",
   "execution_count": 62,
   "metadata": {},
   "outputs": [
    {
     "data": {
      "text/plain": [
       "array([[-2.82665686, -0.55908415, -2.10700118,  1.68774727, -0.78536204],\n",
       "       [-0.91145304,  1.11442093, -1.13903283,  0.19387754, -0.63080674],\n",
       "       [ 0.10714136,  0.95794439, -2.41085742, -0.38911444,  1.1774424 ]])"
      ]
     },
     "execution_count": 62,
     "metadata": {},
     "output_type": "execute_result"
    }
   ],
   "source": [
    "arr[:,0].sort() # sort all rows by column 0\n",
    "\n",
    "arr"
   ]
  },
  {
   "cell_type": "markdown",
   "metadata": {},
   "source": [
    "To not sort with replacement, use `numpy.sort`. It creates a new, sorted copy of an array. "
   ]
  },
  {
   "cell_type": "code",
   "execution_count": 65,
   "metadata": {},
   "outputs": [
    {
     "name": "stdout",
     "output_type": "stream",
     "text": [
      "[-0.02550387  0.47530212  0.53139121  0.15919149 -0.71404591]\n",
      "[-0.71404591 -0.02550387  0.15919149  0.47530212  0.53139121]\n",
      "[-0.02550387  0.47530212  0.53139121  0.15919149 -0.71404591]\n"
     ]
    }
   ],
   "source": [
    "arr = randn(5)\n",
    "\n",
    "print arr\n",
    "\n",
    "print np.sort(arr)\n",
    "\n",
    "print arr"
   ]
  },
  {
   "cell_type": "code",
   "execution_count": 75,
   "metadata": {},
   "outputs": [
    {
     "data": {
      "text/plain": [
       "array([[-1.06598915,  1.16609753, -0.3268122 , -0.10638084],\n",
       "       [ 0.61028227, -0.90689118,  0.93218303, -1.19323377],\n",
       "       [-1.15519559,  1.66067732, -0.11922245,  0.1748295 ],\n",
       "       [ 0.05996118, -0.36144986, -0.05469024, -0.82517769],\n",
       "       [-0.84162825,  0.61835402,  0.66283417,  0.07750631]])"
      ]
     },
     "execution_count": 75,
     "metadata": {},
     "output_type": "execute_result"
    }
   ],
   "source": [
    "# Take an axis argument\n",
    "\n",
    "arr = randn(5,4)\n",
    "\n",
    "arr"
   ]
  },
  {
   "cell_type": "code",
   "execution_count": 76,
   "metadata": {
    "scrolled": true
   },
   "outputs": [
    {
     "data": {
      "text/plain": [
       "array([[-1.06598915, -0.3268122 , -0.10638084,  1.16609753],\n",
       "       [-1.19323377, -0.90689118,  0.61028227,  0.93218303],\n",
       "       [-1.15519559, -0.11922245,  0.1748295 ,  1.66067732],\n",
       "       [-0.82517769, -0.36144986, -0.05469024,  0.05996118],\n",
       "       [-0.84162825,  0.07750631,  0.61835402,  0.66283417]])"
      ]
     },
     "execution_count": 76,
     "metadata": {},
     "output_type": "execute_result"
    }
   ],
   "source": [
    "arr.sort(axis=1) # sorts vertically rows \n",
    "\n",
    "arr"
   ]
  },
  {
   "cell_type": "code",
   "execution_count": 78,
   "metadata": {},
   "outputs": [
    {
     "data": {
      "text/plain": [
       "array([[ 0.48008632, -0.93257359, -0.23354868, -0.83755944],\n",
       "       [ 0.60300127,  0.15971159, -0.22731609, -0.4696589 ],\n",
       "       [ 0.63523396,  0.28745373,  0.05169063, -0.36007198],\n",
       "       [ 0.9667719 ,  1.00804425,  0.88736646,  1.22817975],\n",
       "       [ 2.08476925,  1.44589048,  1.39066994,  1.65925196]])"
      ]
     },
     "execution_count": 78,
     "metadata": {},
     "output_type": "execute_result"
    }
   ],
   "source": [
    "\n",
    "arr=randn(5,4)\n",
    "arr.sort(axis=0) # sorts horizontally  columns\n",
    "arr"
   ]
  }
 ],
 "metadata": {
  "kernelspec": {
   "display_name": "Python 2",
   "language": "python",
   "name": "python2"
  },
  "language_info": {
   "codemirror_mode": {
    "name": "ipython",
    "version": 2
   },
   "file_extension": ".py",
   "mimetype": "text/x-python",
   "name": "python",
   "nbconvert_exporter": "python",
   "pygments_lexer": "ipython2",
   "version": "2.7.13"
  }
 },
 "nbformat": 4,
 "nbformat_minor": 2
}
