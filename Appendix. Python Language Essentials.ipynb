{
 "cells": [
  {
   "cell_type": "markdown",
   "metadata": {},
   "source": [
    "## The basics\n",
    "\n",
    "- Indendation, not braces. Python uses whitespace to structure code instead of braces as in many other languages like R.\n",
    "\n",
    "- A colon denotes the start of an indented code block\n",
    "\n",
    "- Python statements do not need to be terminated by semicolons. Semicolons can be used however, to separate multiple statements on a single line\n",
    "\n",
    "- Every number, string, data structure, function, class, module, and etc. exists in the Python interpreter in its own box which is a Python object. \n",
    "\n",
    "- Comments use # hashtags\n",
    "\n",
    "- Functions are called using parentheses and passing arguments\n",
    "\n",
    "- Almost every object in Python has methods that have access to the object's internal contents. \n",
    "\n",
    "- Functions can take both positional and keyword arguments\n",
    "\n",
    "- When assigning `a` to a new variable `b`, any changes to a would actually reflect to b as well since both points to the same object. "
   ]
  },
  {
   "cell_type": "code",
   "execution_count": 3,
   "metadata": {},
   "outputs": [
    {
     "data": {
      "text/plain": [
       "[1, 2, 3, 4]"
      ]
     },
     "execution_count": 3,
     "metadata": {},
     "output_type": "execute_result"
    }
   ],
   "source": [
    "a = [1,2,3]\n",
    "\n",
    "b=a\n",
    "\n",
    "a.append(4)\n",
    "\n",
    "b"
   ]
  },
  {
   "cell_type": "code",
   "execution_count": 4,
   "metadata": {},
   "outputs": [
    {
     "data": {
      "text/plain": [
       "True"
      ]
     },
     "execution_count": 4,
     "metadata": {},
     "output_type": "execute_result"
    }
   ],
   "source": [
    "# To check whether an object is a particular instance of a type, use isinstance\n",
    "\n",
    "a=5\n",
    "isinstance(a,int)"
   ]
  },
  {
   "cell_type": "code",
   "execution_count": 9,
   "metadata": {},
   "outputs": [
    {
     "data": {
      "text/plain": [
       "<function format>"
      ]
     },
     "execution_count": 9,
     "metadata": {},
     "output_type": "execute_result"
    }
   ],
   "source": [
    "a = 'foo'\n",
    "\n",
    "a.format"
   ]
  },
  {
   "cell_type": "markdown",
   "metadata": {},
   "source": [
    "- A **module** is simply a .py file containing function and variable definitions along with such things imported from other .py files.\n",
    "\n",
    "- Most objects in python are **mutable** e.g. the object or values that they contain can be changed. Lists, dicts, arrays, and classes are mutable. Tuples and strings are not. \n",
    "\n",
    "- VERY IMPORTANT. To enable floating point division, we must include the lines `from __future__ import division` otherwise division is integer based"
   ]
  },
  {
   "cell_type": "code",
   "execution_count": 11,
   "metadata": {},
   "outputs": [
    {
     "data": {
      "text/plain": [
       "' \\nThis is a longer line that spans\\nmultiple\\nlines'"
      ]
     },
     "execution_count": 11,
     "metadata": {},
     "output_type": "execute_result"
    }
   ],
   "source": [
    "c = \"\"\" \n",
    "This is a longer line that spans\n",
    "multiple\n",
    "lines\"\"\"\n",
    "\n",
    "c"
   ]
  },
  {
   "cell_type": "markdown",
   "metadata": {},
   "source": [
    "Numbers can be converted to string using `str()` function"
   ]
  },
  {
   "cell_type": "code",
   "execution_count": 15,
   "metadata": {},
   "outputs": [
    {
     "data": {
      "text/plain": [
       "'5.6'"
      ]
     },
     "execution_count": 15,
     "metadata": {},
     "output_type": "execute_result"
    }
   ],
   "source": [
    "a = 5.6\n",
    "s = str(a)\n",
    "\n",
    "s"
   ]
  },
  {
   "cell_type": "markdown",
   "metadata": {},
   "source": [
    "The backslash characher \\ is an escape character, used to specify special characters like newline or unicode characters."
   ]
  },
  {
   "cell_type": "code",
   "execution_count": 19,
   "metadata": {},
   "outputs": [
    {
     "name": "stdout",
     "output_type": "stream",
     "text": [
      "12\\3\n"
     ]
    }
   ],
   "source": [
    "s = '12\\\\3'\n",
    "print s"
   ]
  },
  {
   "cell_type": "code",
   "execution_count": 20,
   "metadata": {},
   "outputs": [
    {
     "data": {
      "text/plain": [
       "'this is the first half and this is the 2nd half'"
      ]
     },
     "execution_count": 20,
     "metadata": {},
     "output_type": "execute_result"
    }
   ],
   "source": [
    "# Add 2strings together\n",
    "a= 'this is the first half '\n",
    "b='and this is the 2nd half'\n",
    "\n",
    "a+b"
   ]
  },
  {
   "cell_type": "code",
   "execution_count": 21,
   "metadata": {},
   "outputs": [
    {
     "data": {
      "text/plain": [
       "str"
      ]
     },
     "execution_count": 21,
     "metadata": {},
     "output_type": "execute_result"
    }
   ],
   "source": [
    "type(a+b)"
   ]
  },
  {
   "cell_type": "markdown",
   "metadata": {},
   "source": [
    "### Exception Handling\n",
    "\n",
    "Handling Python errors or exceptions gracefully is an important part of building robust programs. In apps, many functions only work on certain kinds of input. \n",
    "\n",
    "For example, suppose we want a version of float that fails gracefully, returning the input argument. We can do this by writing a function that encloses the call to `float` in a `try/except` block of a function. The code in the except part of the block will only be executed if `float(x)` raises an exception"
   ]
  },
  {
   "cell_type": "code",
   "execution_count": 24,
   "metadata": {},
   "outputs": [
    {
     "name": "stdout",
     "output_type": "stream",
     "text": [
      "hah\n",
      "212.0\n"
     ]
    }
   ],
   "source": [
    "def attempt_float(x):\n",
    "    try:\n",
    "        return float(x)\n",
    "    except:\n",
    "        return x\n",
    "    \n",
    "print attempt_float('hah')\n",
    "print attempt_float(212)"
   ]
  },
  {
   "cell_type": "markdown",
   "metadata": {},
   "source": [
    "- A **tuple** is a 1D, fixed-length, immutable sequence of python objects. The easiest way to create one iwth a comma-separated sequence of values. When defining tuples in more complicated expressions, it's often necessary to enclose the values in parentheses"
   ]
  },
  {
   "cell_type": "code",
   "execution_count": 31,
   "metadata": {},
   "outputs": [
    {
     "name": "stdout",
     "output_type": "stream",
     "text": [
      "(4, 5, 6)\n",
      "((4, 5, 6), (7, 8))\n",
      "(4, 0, 2)\n"
     ]
    }
   ],
   "source": [
    "tup = 4,5,6\n",
    "print tup\n",
    "\n",
    "tup2 = (4,5,6), (7,8)\n",
    "print tup2\n",
    "\n",
    "# convert objects to tuple using tuple\n",
    "\n",
    "print tuple([4,0,2])"
   ]
  },
  {
   "cell_type": "markdown",
   "metadata": {},
   "source": [
    "- A **list** are variable-length and their contents are mutable. They are defined using square brackets [] or using the `list` type function\n",
    "\n",
    "- Elements can be added to the end of the list with the `append` method. Using `insert` we can insert an element at a specific location (index) in the list\n",
    "\n",
    "- The opposite operation to insert is `pop` which removes and returns an element at a specific index. Elements can be removed by value using `remove` which locates the first such value and removes it from the last."
   ]
  },
  {
   "cell_type": "code",
   "execution_count": 33,
   "metadata": {},
   "outputs": [
    {
     "name": "stdout",
     "output_type": "stream",
     "text": [
      "['foo', 'peekaboo', 'baz']\n"
     ]
    }
   ],
   "source": [
    "b_list = list(('foo','bar','baz'))\n",
    "\n",
    "b_list[1] = 'peekaboo'\n",
    "\n",
    "print b_list"
   ]
  },
  {
   "cell_type": "code",
   "execution_count": 35,
   "metadata": {},
   "outputs": [
    {
     "data": {
      "text/plain": [
       "['foo', 'peekaboo', 'baz', 'dwarf', 'dwarf']"
      ]
     },
     "execution_count": 35,
     "metadata": {},
     "output_type": "execute_result"
    }
   ],
   "source": [
    "b_list.append('dwarf')\n",
    "\n",
    "b_list"
   ]
  },
  {
   "cell_type": "code",
   "execution_count": 37,
   "metadata": {},
   "outputs": [
    {
     "data": {
      "text/plain": [
       "['red', 'red', 'foo', 'peekaboo', 'baz', 'dwarf', 'dwarf']"
      ]
     },
     "execution_count": 37,
     "metadata": {},
     "output_type": "execute_result"
    }
   ],
   "source": [
    "b_list.insert(0,'red')\n",
    "\n",
    "b_list"
   ]
  },
  {
   "cell_type": "code",
   "execution_count": 40,
   "metadata": {},
   "outputs": [
    {
     "data": {
      "text/plain": [
       "['red', 'red', 'foo', 'dwarf']"
      ]
     },
     "execution_count": 40,
     "metadata": {},
     "output_type": "execute_result"
    }
   ],
   "source": [
    "b_list.pop(3)\n",
    "b_list"
   ]
  },
  {
   "cell_type": "code",
   "execution_count": 42,
   "metadata": {},
   "outputs": [
    {
     "data": {
      "text/plain": [
       "['foo', 'dwarf']"
      ]
     },
     "execution_count": 42,
     "metadata": {},
     "output_type": "execute_result"
    }
   ],
   "source": [
    "b_list.remove('red')\n",
    "b_list"
   ]
  },
  {
   "cell_type": "code",
   "execution_count": 43,
   "metadata": {},
   "outputs": [
    {
     "data": {
      "text/plain": [
       "True"
      ]
     },
     "execution_count": 43,
     "metadata": {},
     "output_type": "execute_result"
    }
   ],
   "source": [
    "'dwarf' in b_list"
   ]
  },
  {
   "cell_type": "markdown",
   "metadata": {},
   "source": [
    "Using **extend** to append elements to an existing list, especially if you are building a large list is preferable"
   ]
  },
  {
   "cell_type": "code",
   "execution_count": 49,
   "metadata": {},
   "outputs": [
    {
     "data": {
      "text/plain": [
       "[1, 2, 3, 4, 5, 1, 2, 3]"
      ]
     },
     "execution_count": 49,
     "metadata": {},
     "output_type": "execute_result"
    }
   ],
   "source": [
    "list_of_list = ((1,2,3,4,5),(1,2,3))\n",
    "\n",
    "everything = []\n",
    "for chunk in list_of_list:\n",
    "    everything.extend(chunk)\n",
    "    \n",
    "everything"
   ]
  },
  {
   "cell_type": "markdown",
   "metadata": {},
   "source": [
    "**enumerate** allows us to keep track of the index of the current item. When indexing data, a useful pattern that uses enumerate is computing a `dict` mapping the values of a sequence to their locations in the sequence"
   ]
  },
  {
   "cell_type": "code",
   "execution_count": 50,
   "metadata": {},
   "outputs": [
    {
     "data": {
      "text/plain": [
       "{'bar': 1, 'baz': 2, 'foo': 0}"
      ]
     },
     "execution_count": 50,
     "metadata": {},
     "output_type": "execute_result"
    }
   ],
   "source": [
    "some_list = ['foo','bar','baz']\n",
    "\n",
    "mapping = dict((v,i) for i, v in enumerate(some_list))\n",
    "mapping"
   ]
  },
  {
   "cell_type": "code",
   "execution_count": 52,
   "metadata": {},
   "outputs": [
    {
     "data": {
      "text/plain": [
       "{0: 'foo', 1: 'bar', 2: 'baz'}"
      ]
     },
     "execution_count": 52,
     "metadata": {},
     "output_type": "execute_result"
    }
   ],
   "source": [
    "mapping = dict((i,v) for i,v in enumerate(some_list))\n",
    "mapping"
   ]
  },
  {
   "cell_type": "markdown",
   "metadata": {},
   "source": [
    "**zip** pairs up elements of a number of lists, tuples or other sequences to create a list of tuples. The number of elements is produces is determined by the shortest sequence"
   ]
  },
  {
   "cell_type": "code",
   "execution_count": 53,
   "metadata": {},
   "outputs": [
    {
     "data": {
      "text/plain": [
       "[('one', 'foo'), ('two', 'bar'), ('three', 'baz')]"
      ]
     },
     "execution_count": 53,
     "metadata": {},
     "output_type": "execute_result"
    }
   ],
   "source": [
    "seq1 = ['foo','bar','baz']\n",
    "seq2 = ['one','two','three']\n",
    "\n",
    "zip(seq2, seq1)"
   ]
  },
  {
   "cell_type": "code",
   "execution_count": 54,
   "metadata": {},
   "outputs": [
    {
     "data": {
      "text/plain": [
       "[('one', 'foo', False), ('two', 'bar', True)]"
      ]
     },
     "execution_count": 54,
     "metadata": {},
     "output_type": "execute_result"
    }
   ],
   "source": [
    "seq3 = [False, True]\n",
    "\n",
    "zip(seq2, seq1, seq3)"
   ]
  },
  {
   "cell_type": "markdown",
   "metadata": {},
   "source": [
    "Given a \"zipped\" sequence, zip can be applied to \"unzip\" the sequence by converting a list of rows into a list of columns.\n",
    "\n",
    "The * in a function call is = to the following:\n",
    "\n",
    "`zip(seq[0],seq[1],...,seq[len(seq) -1])`"
   ]
  },
  {
   "cell_type": "code",
   "execution_count": 58,
   "metadata": {},
   "outputs": [
    {
     "data": {
      "text/plain": [
       "('Nolan', 'Roger', 'Schilling')"
      ]
     },
     "execution_count": 58,
     "metadata": {},
     "output_type": "execute_result"
    }
   ],
   "source": [
    "pitchers = [('Nolan','Ryan'), ('Roger', 'Clemens'), ('Schilling','Curt')]\n",
    "\n",
    "first_names, last_names = zip(*pitchers)\n",
    "\n",
    "first_names"
   ]
  },
  {
   "cell_type": "code",
   "execution_count": 75,
   "metadata": {},
   "outputs": [
    {
     "data": {
      "text/plain": [
       "[9, 8, 7, 6, 5, 4, 3, 2, 1, 0]"
      ]
     },
     "execution_count": 75,
     "metadata": {},
     "output_type": "execute_result"
    }
   ],
   "source": [
    "# reversed iterates over the elements of a sequence in reverse order\n",
    "\n",
    "list(reversed(range(10)))"
   ]
  },
  {
   "cell_type": "markdown",
   "metadata": {},
   "source": [
    "### Dict\n",
    "\n",
    "aka hash map or associative array. It's a collection of key-value pairs where key and value are python objects. One way to create one is by using curly brackets {} and using colons to separtae keys and values\n",
    "\n",
    "- Elements can be accessed and inserted or set using the same syntax as accessing lements of a list. You can call a key\n",
    "\n",
    "- The keys and values method give you lists of the keys and values. \n",
    "\n",
    "- keys of dict have to be immutable like scalars or tuples"
   ]
  },
  {
   "cell_type": "code",
   "execution_count": 60,
   "metadata": {},
   "outputs": [
    {
     "data": {
      "text/plain": [
       "{7: 'an int', 'a': 'some value', 'b': [1, 2, 3, 4]}"
      ]
     },
     "execution_count": 60,
     "metadata": {},
     "output_type": "execute_result"
    }
   ],
   "source": [
    "d1 = {'a' : 'some value', 'b' : [1,2,3,4], 7: 'an int'}\n",
    "\n",
    "d1"
   ]
  },
  {
   "cell_type": "code",
   "execution_count": 71,
   "metadata": {},
   "outputs": [
    {
     "data": {
      "text/plain": [
       "['a', 'b', 7]"
      ]
     },
     "execution_count": 71,
     "metadata": {},
     "output_type": "execute_result"
    }
   ],
   "source": [
    "d1.keys()"
   ]
  },
  {
   "cell_type": "code",
   "execution_count": 62,
   "metadata": {},
   "outputs": [
    {
     "name": "stdout",
     "output_type": "stream",
     "text": [
      "an int\n",
      "some value\n"
     ]
    }
   ],
   "source": [
    "print d1[7]\n",
    "print d1['a']"
   ]
  },
  {
   "cell_type": "code",
   "execution_count": 63,
   "metadata": {},
   "outputs": [
    {
     "data": {
      "text/plain": [
       "True"
      ]
     },
     "execution_count": 63,
     "metadata": {},
     "output_type": "execute_result"
    }
   ],
   "source": [
    "7 in d1"
   ]
  },
  {
   "cell_type": "code",
   "execution_count": 65,
   "metadata": {},
   "outputs": [
    {
     "data": {
      "text/plain": [
       "{5: 'some value', 7: 'an int', 'a': 'some value', 'b': [1, 2, 3, 4]}"
      ]
     },
     "execution_count": 65,
     "metadata": {},
     "output_type": "execute_result"
    }
   ],
   "source": [
    "d1[5] = 'some value'\n",
    "\n",
    "d1"
   ]
  },
  {
   "cell_type": "code",
   "execution_count": 69,
   "metadata": {},
   "outputs": [
    {
     "data": {
      "text/plain": [
       "'another value'"
      ]
     },
     "execution_count": 69,
     "metadata": {},
     "output_type": "execute_result"
    }
   ],
   "source": [
    "d1['dummy'] = 'another value'\n",
    "\n",
    "ret = d1.pop('dummy')\n",
    "ret"
   ]
  },
  {
   "cell_type": "code",
   "execution_count": 70,
   "metadata": {},
   "outputs": [
    {
     "data": {
      "text/plain": [
       "{7: 'an int', 'a': 'some value', 'b': [1, 2, 3, 4]}"
      ]
     },
     "execution_count": 70,
     "metadata": {},
     "output_type": "execute_result"
    }
   ],
   "source": [
    "d1"
   ]
  },
  {
   "cell_type": "code",
   "execution_count": 73,
   "metadata": {},
   "outputs": [
    {
     "data": {
      "text/plain": [
       "{7: 'an int', 'a': 'some value', 'b': [1, 2, 3], 'new': 'haha'}"
      ]
     },
     "execution_count": 73,
     "metadata": {},
     "output_type": "execute_result"
    }
   ],
   "source": [
    "# Add to a dictionary or update keys/values using update mehtod\n",
    "\n",
    "d1.update({'b':[1,2,3], 'new': 'haha'})\n",
    "\n",
    "d1"
   ]
  },
  {
   "cell_type": "markdown",
   "metadata": {},
   "source": [
    "#### Default Values\n",
    "\n",
    "It's very common to assign a default value to dict if the key exists:"
   ]
  },
  {
   "cell_type": "code",
   "execution_count": null,
   "metadata": {
    "collapsed": true
   },
   "outputs": [],
   "source": [
    "if key in some_dict:\n",
    "    value = some_dict[key]\n",
    "else:\n",
    "    value = default_value\n",
    "    \n",
    "value = some_dict.get(key, default_value) "
   ]
  },
  {
   "cell_type": "code",
   "execution_count": 77,
   "metadata": {},
   "outputs": [
    {
     "data": {
      "text/plain": [
       "{'a': ['apple', 'atom'], 'b': ['bat', 'bar', 'book']}"
      ]
     },
     "execution_count": 77,
     "metadata": {},
     "output_type": "execute_result"
    }
   ],
   "source": [
    "words = ['apple','bat','bar','atom','book']\n",
    "\n",
    "by_letter = {}\n",
    "\n",
    "for word in words: # For each word\n",
    "    letter=word[0] # letter is the first letter of the word\n",
    "    if letter not in by_letter: # if the first letter of the word is not in the list\n",
    "        by_letter[letter] = [word] # The key is the first letter of the word along with the word\n",
    "    else:\n",
    "        by_letter[letter].append(word) # If it's already in the list, add the word to the dict key\n",
    "        \n",
    "by_letter"
   ]
  },
  {
   "cell_type": "markdown",
   "metadata": {},
   "source": [
    "The `setdefault` dict method is used for this purpose to append words per letter, otherwise leave blank []"
   ]
  },
  {
   "cell_type": "code",
   "execution_count": 79,
   "metadata": {},
   "outputs": [
    {
     "data": {
      "text/plain": [
       "{'a': ['apple', 'atom'], 'b': ['bat', 'bar', 'book']}"
      ]
     },
     "execution_count": 79,
     "metadata": {},
     "output_type": "execute_result"
    }
   ],
   "source": [
    "# Rewritten\n",
    "\n",
    "words = ['apple','bat','bar','atom','book']\n",
    "\n",
    "by_letter = {}\n",
    "\n",
    "for word in words: # For each word\n",
    "    letter=word[0] # letter is the first letter of the word\n",
    "    by_letter.setdefault(letter, []).append(word)\n",
    "    \n",
    "by_letter"
   ]
  },
  {
   "cell_type": "markdown",
   "metadata": {},
   "source": [
    "### Set\n",
    "\n",
    "A set is an unordered collection of unique elements. A set can be created via the `set` function or using a set literal with curly braces { }. Sets support math set operatinos like union, intersection, difference, and symmetric difference"
   ]
  },
  {
   "cell_type": "code",
   "execution_count": 80,
   "metadata": {},
   "outputs": [
    {
     "data": {
      "text/plain": [
       "{1, 2, 3, 4}"
      ]
     },
     "execution_count": 80,
     "metadata": {},
     "output_type": "execute_result"
    }
   ],
   "source": [
    "set ([2,2,2,1,1,1,1,3,3,3,3,4])"
   ]
  },
  {
   "cell_type": "code",
   "execution_count": 81,
   "metadata": {},
   "outputs": [
    {
     "data": {
      "text/plain": [
       "{1, 2, 3, 4}"
      ]
     },
     "execution_count": 81,
     "metadata": {},
     "output_type": "execute_result"
    }
   ],
   "source": [
    "{2,2,2,2,3,3,3,3,4,4,4,4,1}"
   ]
  },
  {
   "cell_type": "code",
   "execution_count": 82,
   "metadata": {},
   "outputs": [
    {
     "data": {
      "text/plain": [
       "{1, 2, 3, 4, 5, 6, 7, 8}"
      ]
     },
     "execution_count": 82,
     "metadata": {},
     "output_type": "execute_result"
    }
   ],
   "source": [
    "a = {1,2,3,4,5}\n",
    "b= {3,4,5,6,7,8}\n",
    "\n",
    "a | b # union (or)"
   ]
  },
  {
   "cell_type": "code",
   "execution_count": 83,
   "metadata": {},
   "outputs": [
    {
     "data": {
      "text/plain": [
       "{3, 4, 5}"
      ]
     },
     "execution_count": 83,
     "metadata": {},
     "output_type": "execute_result"
    }
   ],
   "source": [
    "a & b # intersection"
   ]
  },
  {
   "cell_type": "code",
   "execution_count": 84,
   "metadata": {},
   "outputs": [
    {
     "data": {
      "text/plain": [
       "{1, 2}"
      ]
     },
     "execution_count": 84,
     "metadata": {},
     "output_type": "execute_result"
    }
   ],
   "source": [
    "a - b # difference"
   ]
  },
  {
   "cell_type": "code",
   "execution_count": 85,
   "metadata": {},
   "outputs": [
    {
     "data": {
      "text/plain": [
       "{1, 2, 6, 7, 8}"
      ]
     },
     "execution_count": 85,
     "metadata": {},
     "output_type": "execute_result"
    }
   ],
   "source": [
    "a ^ b # symmetric difference (xor)"
   ]
  },
  {
   "cell_type": "markdown",
   "metadata": {},
   "source": [
    "### List, Set, and Dict Comprehensions\n",
    "\n",
    "** List comprehensions** are one of the most popular Python language featurs. They allow us to form a new list by filtering elements of a collection and transforming the leements passing the filter in 1 statement.  They take the form:\n",
    "\n",
    "`[expr for val in collection if condition]`"
   ]
  },
  {
   "cell_type": "code",
   "execution_count": null,
   "metadata": {
    "collapsed": true
   },
   "outputs": [],
   "source": [
    "# Equal to:\n",
    "\n",
    "result = []\n",
    "for val in collection:\n",
    "    if condition:\n",
    "        result.append(expr)"
   ]
  },
  {
   "cell_type": "code",
   "execution_count": 87,
   "metadata": {},
   "outputs": [
    {
     "data": {
      "text/plain": [
       "['BAT', 'CAR', 'DOVE', 'PYTHON']"
      ]
     },
     "execution_count": 87,
     "metadata": {},
     "output_type": "execute_result"
    }
   ],
   "source": [
    "# Filter condition can be omitted, leaving only the expression. For ex, given a list of strings\n",
    "# we can filter out strings iwth length 2 or less\n",
    "# then convert to uppercase\n",
    "\n",
    "strings = ['a','as','bat','car','dove','python']\n",
    "\n",
    "[x.upper() for x in strings if len(x) > 2]  # list comprehension.. apply uppercase for each element in string if the length > 2"
   ]
  },
  {
   "cell_type": "markdown",
   "metadata": {},
   "source": [
    "Set and dict comprensions are a natural extension producing sets and dicts in a similar way instead of lists. A dict comprehension looks like this:"
   ]
  },
  {
   "cell_type": "markdown",
   "metadata": {},
   "source": [
    "`dict_comp = {key-expr: value-expr for value in collection if condition}`"
   ]
  },
  {
   "cell_type": "code",
   "execution_count": 93,
   "metadata": {},
   "outputs": [
    {
     "data": {
      "text/plain": [
       "{0: 'a', 1: 'as', 2: 'bat', 3: 'car', 4: 'dove', 5: 'python'}"
      ]
     },
     "execution_count": 93,
     "metadata": {},
     "output_type": "execute_result"
    }
   ],
   "source": [
    "# dict comp\n",
    "\n",
    "loc_mapping = {index : val for index, val in enumerate(strings)}  # enumerate includes index and string value\n",
    "\n",
    "loc_mapping"
   ]
  },
  {
   "cell_type": "code",
   "execution_count": 97,
   "metadata": {},
   "outputs": [
    {
     "data": {
      "text/plain": [
       "['Jeff', 'Susie', 'Annie', 'Jess']"
      ]
     },
     "execution_count": 97,
     "metadata": {},
     "output_type": "execute_result"
    }
   ],
   "source": [
    "# Nested list comprehensions \n",
    "\n",
    "all_data = [['Tom','Billy','Jeff','Andy'],\n",
    "            ['Susie','Laura','Annie','Jess']]\n",
    "\n",
    "names_of_interest = []\n",
    "for names in all_data:\n",
    "    enough_es = [name for name in names if name.count('e') >=1]  # get names that have at least one 'e'\n",
    "    names_of_interest.extend(enough_es)\n",
    "    \n",
    "names_of_interest\n",
    "\n",
    "# 2 For loops (nested for loop... per each chunk, partition by chunk within chunk)"
   ]
  },
  {
   "cell_type": "markdown",
   "metadata": {},
   "source": [
    "### Functions\n",
    "\n",
    "The primary and most important method of code organization and resuse in Python. Most programmers doing data analysis don't write enough functions. Functions are declared using the `def` keyword and returned from using the `return` keyword. \n",
    "\n",
    "- Can have multiple return statements\n",
    "- If the end of a function is reached without encountering a return statement, None is returned. \n",
    "- Keyword arguments must follow any positional arguments of a function. They can be called upon any order\n",
    "- Any variables assigned within a function, by default, are part of the local namespace. After the function is finished, the local namespace is destroyed.\n",
    "- Assigning global vars within a function is possible, but those vars must be declared as a global using the `global` keyword"
   ]
  },
  {
   "cell_type": "code",
   "execution_count": 105,
   "metadata": {},
   "outputs": [
    {
     "name": "stdout",
     "output_type": "stream",
     "text": [
      "None\n",
      "[]\n"
     ]
    }
   ],
   "source": [
    "def func():  # upon calling func()\n",
    "    a = [] # empty list is created \n",
    "    for i in range(5): # 5 elements are appended\n",
    "        a.append(i) # a is destroyed when the function exists\n",
    "        \n",
    "print func()\n",
    "print a"
   ]
  },
  {
   "cell_type": "code",
   "execution_count": 106,
   "metadata": {},
   "outputs": [
    {
     "name": "stdout",
     "output_type": "stream",
     "text": [
      "[]\n"
     ]
    }
   ],
   "source": [
    "a = []\n",
    "def func():\n",
    "    for i in range(5):\n",
    "        a.append(i)\n",
    "        \n",
    "print a"
   ]
  },
  {
   "cell_type": "code",
   "execution_count": 114,
   "metadata": {},
   "outputs": [
    {
     "name": "stdout",
     "output_type": "stream",
     "text": [
      "None\n",
      "['boo']\n"
     ]
    }
   ],
   "source": [
    "# Global vars\n",
    "\n",
    "a = None\n",
    "\n",
    "def bind_a_var():\n",
    "    global a\n",
    "    a = ['boo']\n",
    "    \n",
    "print bind_a_var()\n",
    "print a"
   ]
  },
  {
   "cell_type": "code",
   "execution_count": 121,
   "metadata": {},
   "outputs": [
    {
     "name": "stdout",
     "output_type": "stream",
     "text": [
      "[5, 6, 7]\n",
      "6\n"
     ]
    }
   ],
   "source": [
    "# Returning multiple values\n",
    "\n",
    "def f():\n",
    "    a = 5\n",
    "    b = 6\n",
    "    c = 7\n",
    "    return a,b,c # returns a tuple\n",
    "\n",
    "print f() # a tuple\n",
    "a,b,c = f()\n",
    "\n",
    "print b"
   ]
  },
  {
   "cell_type": "code",
   "execution_count": 123,
   "metadata": {},
   "outputs": [
    {
     "name": "stdout",
     "output_type": "stream",
     "text": [
      "{'a': 5, 'c': 7, 'b': 6}\n"
     ]
    }
   ],
   "source": [
    "# Return a dictionary\n",
    "\n",
    "def f():\n",
    "    a = 5\n",
    "    b = 6\n",
    "    c = 7\n",
    "    return {'a':a,'b':b,'c':c}\n",
    "\n",
    "print f()"
   ]
  },
  {
   "cell_type": "markdown",
   "metadata": {},
   "source": [
    "#### Functions as objects\n",
    "\n",
    "Anyone who's worked with user-submitted survey data can expect messy results where we need to do whitespace stripping, removing punctuation symbols, proper capitalization, etc."
   ]
  },
  {
   "cell_type": "code",
   "execution_count": 127,
   "metadata": {},
   "outputs": [
    {
     "data": {
      "text/plain": [
       "['Good', 'Bad', 'Okay Dokey']"
      ]
     },
     "execution_count": 127,
     "metadata": {},
     "output_type": "execute_result"
    }
   ],
   "source": [
    "import re # import regular expression module\n",
    "\n",
    "def remove_punctuation(value):\n",
    "    return re.sub('[!#?]', '',value) # substitute the punctuations with nothing otherwise return value\n",
    "\n",
    "clean_ops = [str.strip, remove_punctuation, str.title]  # title = capitolize each word\n",
    "\n",
    "def clean_strings(strings, ops):\n",
    "    result =[]\n",
    "    for value in strings:\n",
    "        for function in ops:\n",
    "            value = function(value)\n",
    "        result.append(value)\n",
    "    return result\n",
    "\n",
    "comments = ['  Good', ' Bad!', ' #OkAy dokey']\n",
    "\n",
    "clean_strings(comments, clean_ops)"
   ]
  },
  {
   "cell_type": "markdown",
   "metadata": {},
   "source": [
    "This is a more functional pattern which enablse us to easily modify how strings are transformed. The clean_strings function is also more reusable. We can use functions are arguments to other functions.\n",
    "\n",
    "We can use built-in map function which applies a function to a collection of some kind:"
   ]
  },
  {
   "cell_type": "code",
   "execution_count": 129,
   "metadata": {},
   "outputs": [
    {
     "name": "stdout",
     "output_type": "stream",
     "text": [
      "['  Good', ' Bad', ' OkAy dokey']\n",
      "['Good', 'Bad!', '#OkAy dokey']\n"
     ]
    }
   ],
   "source": [
    "print map(remove_punctuation, comments)\n",
    "print map(str.strip, comments)"
   ]
  },
  {
   "cell_type": "markdown",
   "metadata": {},
   "source": [
    "### Lambda Functions\n",
    "\n",
    "They are really just simple functions consisting of a single statement, the result of which is the return value. They are defined using the lambda keyword, which has no meaning other than \"we are declaring an unnamed function\" (or anonymous)\n",
    "\n",
    "They are very convenient in data analysis because there are many cases where dat atransformation functions will take functions as arguments. It's more clear."
   ]
  },
  {
   "cell_type": "code",
   "execution_count": 131,
   "metadata": {},
   "outputs": [
    {
     "data": {
      "text/plain": [
       "4"
      ]
     },
     "execution_count": 131,
     "metadata": {},
     "output_type": "execute_result"
    }
   ],
   "source": [
    "def short_func(x):\n",
    "    return x * 2\n",
    "\n",
    "# equivalent\n",
    "\n",
    "a = lambda x: x*2\n",
    "a(2)"
   ]
  },
  {
   "cell_type": "code",
   "execution_count": 133,
   "metadata": {},
   "outputs": [
    {
     "data": {
      "text/plain": [
       "[8, 0, 2, 10, 12]"
      ]
     },
     "execution_count": 133,
     "metadata": {},
     "output_type": "execute_result"
    }
   ],
   "source": [
    "def apply_to_list(some_list, f):\n",
    "    return [f(x) for x in some_list]\n",
    "\n",
    "ints = [4,0,1,5,6]\n",
    "apply_to_list(ints, lambda x: x * 2) # for each element in list, apply x * 2"
   ]
  },
  {
   "cell_type": "code",
   "execution_count": 139,
   "metadata": {},
   "outputs": [
    {
     "name": "stdout",
     "output_type": "stream",
     "text": [
      "['foo', 'card', 'bar', 'aaaa', 'abab', 'abab']\n",
      "set(['aaaa', 'abab', 'foo', 'bar', 'card'])\n",
      "['aaaa', 'foo', 'abab', 'abab', 'bar', 'card']\n"
     ]
    }
   ],
   "source": [
    "# We want to sort a collection of strings by the # of distinct letters in each string\n",
    "\n",
    "strings = ['foo','card','bar','aaaa','abab','abab']\n",
    "print list(strings)\n",
    "print set(list(strings))\n",
    "strings.sort(key=lambda x: len(set(list(x))))\n",
    "\n",
    "print strings"
   ]
  }
 ],
 "metadata": {
  "kernelspec": {
   "display_name": "Python 2",
   "language": "python",
   "name": "python2"
  },
  "language_info": {
   "codemirror_mode": {
    "name": "ipython",
    "version": 2
   },
   "file_extension": ".py",
   "mimetype": "text/x-python",
   "name": "python",
   "nbconvert_exporter": "python",
   "pygments_lexer": "ipython2",
   "version": "2.7.13"
  }
 },
 "nbformat": 4,
 "nbformat_minor": 2
}
