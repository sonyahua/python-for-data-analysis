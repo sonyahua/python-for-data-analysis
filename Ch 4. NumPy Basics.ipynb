{
 "cells": [
  {
   "cell_type": "markdown",
   "metadata": {},
   "source": [
    "### Creating Arrays\n",
    "\n",
    "While python lists can contain values corresponding to different data types, \n",
    "arrays in python can only contain values corresponding to same data type"
   ]
  },
  {
   "cell_type": "markdown",
   "metadata": {},
   "source": [
    "Easiest way to create an array is to use the `array()` function"
   ]
  },
  {
   "cell_type": "code",
   "execution_count": 1,
   "metadata": {},
   "outputs": [
    {
     "data": {
      "text/plain": [
       "array([ 6. ,  7.5,  8. ,  0. ,  1. ])"
      ]
     },
     "execution_count": 1,
     "metadata": {},
     "output_type": "execute_result"
    }
   ],
   "source": [
    "import numpy as np\n",
    "\n",
    "data1=[6,7.5,8,0,1]\n",
    "\n",
    "arr1=np.array(data1)\n",
    "\n",
    "arr1"
   ]
  },
  {
   "cell_type": "markdown",
   "metadata": {},
   "source": [
    "Nested list of equal length lists are converted into a ndarray or multidimensional array"
   ]
  },
  {
   "cell_type": "code",
   "execution_count": 2,
   "metadata": {},
   "outputs": [
    {
     "name": "stdout",
     "output_type": "stream",
     "text": [
      "2\n",
      "(2L, 4L)\n",
      "int32\n"
     ]
    }
   ],
   "source": [
    "data2=[[1,2,3,4],[5,6,7,8]]\n",
    "arr2=np.array(data2)\n",
    "\n",
    "#check on dimensionality of array using .ndim object\n",
    "print(arr2.ndim)\n",
    "\n",
    "# check on shape of array using .shape object\n",
    "print(arr2.shape)\n",
    "\n",
    "# check data type of array using .dtype object\n",
    "print(arr2.dtype)"
   ]
  },
  {
   "cell_type": "markdown",
   "metadata": {},
   "source": [
    "Create zero and 1's arrays"
   ]
  },
  {
   "cell_type": "code",
   "execution_count": 3,
   "metadata": {},
   "outputs": [
    {
     "data": {
      "text/plain": [
       "array([ 0.,  0.,  0.,  0.,  0.,  0.,  0.,  0.,  0.,  0.])"
      ]
     },
     "execution_count": 3,
     "metadata": {},
     "output_type": "execute_result"
    }
   ],
   "source": [
    "np.zeros(10)"
   ]
  },
  {
   "cell_type": "code",
   "execution_count": 4,
   "metadata": {},
   "outputs": [
    {
     "data": {
      "text/plain": [
       "array([[ 0.,  0.,  0.,  0.,  0.,  0.,  0.,  0.,  0.,  0.],\n",
       "       [ 0.,  0.,  0.,  0.,  0.,  0.,  0.,  0.,  0.,  0.],\n",
       "       [ 0.,  0.,  0.,  0.,  0.,  0.,  0.,  0.,  0.,  0.],\n",
       "       [ 0.,  0.,  0.,  0.,  0.,  0.,  0.,  0.,  0.,  0.]])"
      ]
     },
     "execution_count": 4,
     "metadata": {},
     "output_type": "execute_result"
    }
   ],
   "source": [
    "np.zeros((4,10))"
   ]
  },
  {
   "cell_type": "markdown",
   "metadata": {},
   "source": [
    "`empty` creates an array without initializing its values to any particular value. To create a ndarray, pass a tuple for the shape (Row x Column)"
   ]
  },
  {
   "cell_type": "code",
   "execution_count": 5,
   "metadata": {},
   "outputs": [
    {
     "data": {
      "text/plain": [
       "array([[ 0.,  0.,  0.],\n",
       "       [ 0.,  0.,  0.]])"
      ]
     },
     "execution_count": 5,
     "metadata": {},
     "output_type": "execute_result"
    }
   ],
   "source": [
    "np.empty((2,3))"
   ]
  },
  {
   "cell_type": "code",
   "execution_count": 6,
   "metadata": {},
   "outputs": [
    {
     "data": {
      "text/plain": [
       "array([[[  0.00000000e+000,   6.36598737e-314],\n",
       "        [  0.00000000e+000,   1.27319747e-313],\n",
       "        [  1.27319747e-313,   1.27319747e-313]],\n",
       "\n",
       "       [[  1.27319747e-313,   1.27319747e-313],\n",
       "        [  0.00000000e+000,   4.44659081e-323],\n",
       "        [  2.54639495e-313,   6.42285340e-323]]])"
      ]
     },
     "execution_count": 6,
     "metadata": {},
     "output_type": "execute_result"
    }
   ],
   "source": [
    "# Create two 3x2 ndarray\n",
    "\n",
    "np.empty((2,3,2))"
   ]
  },
  {
   "cell_type": "markdown",
   "metadata": {},
   "source": [
    "**`range()`**: create lists containing arithmetic progressions. The arguments must be plain integers. If the step argument is omitted, it defaults to 1 step. If the start argument is omitted, start = 0. The full form returns a list of plain integers [start, start + step, start + 2 * step, ...]. If step is positive, the last element is the largest start + i * step less than stop;"
   ]
  },
  {
   "cell_type": "code",
   "execution_count": 7,
   "metadata": {
    "scrolled": true
   },
   "outputs": [
    {
     "data": {
      "text/plain": [
       "array([ 0,  1,  2,  3,  4,  5,  6,  7,  8,  9, 10, 11, 12, 13, 14])"
      ]
     },
     "execution_count": 7,
     "metadata": {},
     "output_type": "execute_result"
    }
   ],
   "source": [
    "# an array-valued version of the built-in Python range function\n",
    "np.arange(15)"
   ]
  },
  {
   "cell_type": "markdown",
   "metadata": {},
   "source": [
    "Create an **identity square matrix **(1's on the daigonal and 0's elsewhere)"
   ]
  },
  {
   "cell_type": "code",
   "execution_count": 8,
   "metadata": {},
   "outputs": [
    {
     "data": {
      "text/plain": [
       "array([[ 1.,  0.,  0.,  0.],\n",
       "       [ 0.,  1.,  0.,  0.],\n",
       "       [ 0.,  0.,  1.,  0.],\n",
       "       [ 0.,  0.,  0.,  1.]])"
      ]
     },
     "execution_count": 8,
     "metadata": {},
     "output_type": "execute_result"
    }
   ],
   "source": [
    "identity_mx = np.eye((4))\n",
    "identity_mx"
   ]
  },
  {
   "cell_type": "markdown",
   "metadata": {},
   "source": [
    "### Assigning Data Types for ndarrays"
   ]
  },
  {
   "cell_type": "code",
   "execution_count": 9,
   "metadata": {},
   "outputs": [
    {
     "name": "stdout",
     "output_type": "stream",
     "text": [
      "float64\n",
      "float32\n"
     ]
    }
   ],
   "source": [
    "arr1=np.array([1,2,3], dtype=np.float64)\n",
    "print(arr1.dtype)\n",
    "arr2=np.array([1,2,3], dtype=np.float32)\n",
    "print(arr2.dtype)"
   ]
  },
  {
   "cell_type": "markdown",
   "metadata": {},
   "source": [
    "`astype()`: Change an array with an existing data type using method"
   ]
  },
  {
   "cell_type": "code",
   "execution_count": 10,
   "metadata": {},
   "outputs": [
    {
     "data": {
      "text/plain": [
       "dtype('float64')"
      ]
     },
     "execution_count": 10,
     "metadata": {},
     "output_type": "execute_result"
    }
   ],
   "source": [
    "arr=np.array([1,2,3,4,5])\n",
    "arr.dtype\n",
    "\n",
    "float_arr=arr.astype(np.float64)\n",
    "\n",
    "float_arr.dtype"
   ]
  },
  {
   "cell_type": "code",
   "execution_count": 11,
   "metadata": {},
   "outputs": [
    {
     "name": "stdout",
     "output_type": "stream",
     "text": [
      "[  3.7  -1.2  -2.6   0.5  12.9  10.1]\n",
      "[ 3 -1 -2  0 12 10]\n"
     ]
    }
   ],
   "source": [
    "arr = np.array([3.7, -1.2, -2.6, 0.5, 12.9, 10.1])\n",
    "print(arr)\n",
    "\n",
    "print(arr.astype(np.int32))"
   ]
  },
  {
   "cell_type": "markdown",
   "metadata": {},
   "source": [
    "Casting floating point numbers to integers will cause the decimal part to be truncated. We can also convert strings to numbers using `astype()`"
   ]
  },
  {
   "cell_type": "code",
   "execution_count": 12,
   "metadata": {},
   "outputs": [
    {
     "name": "stdout",
     "output_type": "stream",
     "text": [
      "[  3.8  -1.2   4.3   8.8 -34.5]\n",
      "[  3  -1   4   8 -34]\n",
      "|S4\n",
      "New Data Type: float64\n"
     ]
    }
   ],
   "source": [
    "arr = np.array([3.8, -1.2,4.3,8.8,-34.5])\n",
    "print(arr)\n",
    "\n",
    "print(arr.astype(int))\n",
    "\n",
    "# Converting string to numbers\n",
    "\n",
    "numeric_strings = np.array(['1.24','4.34','8.97'], dtype= np.string_)\n",
    "print(numeric_strings.dtype)\n",
    "\n",
    "numeric_strings=numeric_strings.astype(float)\n",
    "print(\"New Data Type: {}\".format(numeric_strings.dtype))\n"
   ]
  },
  {
   "cell_type": "code",
   "execution_count": 13,
   "metadata": {},
   "outputs": [
    {
     "name": "stdout",
     "output_type": "stream",
     "text": [
      "[0 1 2 3 4 5 6 7 8 9]\n",
      "[ 0.22   0.385  0.85   0.999]\n",
      "[ 0.  1.  2.  3.  4.  5.  6.  7.  8.  9.]\n"
     ]
    }
   ],
   "source": [
    "# Use another array's dtype to assign dtype\n",
    "\n",
    "int_array = np.arange(10)\n",
    "print(int_array)\n",
    "\n",
    "calibers = np.array([.22,.385,.85,.999])\n",
    "print(calibers)\n",
    "\n",
    "print(int_array.astype(calibers.dtype))"
   ]
  },
  {
   "cell_type": "markdown",
   "metadata": {},
   "source": [
    "### Operations between Arrays & Scalars\n",
    "\n",
    "Arithmetic operations with scalars and arrays are done onto each element of the array"
   ]
  },
  {
   "cell_type": "code",
   "execution_count": 14,
   "metadata": {},
   "outputs": [
    {
     "name": "stdout",
     "output_type": "stream",
     "text": [
      "[[ 1.  2.  3.]\n",
      " [ 4.  5.  6.]]\n",
      "\n",
      "[[  1.   4.   9.]\n",
      " [ 16.  25.  36.]]\n",
      "[[ 0.  0.  0.]\n",
      " [ 0.  0.  0.]]\n",
      "[[  2.   4.   6.]\n",
      " [  8.  10.  12.]]\n",
      "[[ 1.          0.5         0.33333333]\n",
      " [ 0.25        0.2         0.16666667]]\n",
      "[[ 1.          1.41421356  1.73205081]\n",
      " [ 2.          2.23606798  2.44948974]]\n"
     ]
    }
   ],
   "source": [
    "arr = np.array([[1.,2.,3.],[4.,5.,6.]])\n",
    "print arr\n",
    "print''\n",
    "\n",
    "# Operations\n",
    "print arr*arr\n",
    "print arr-arr\n",
    "print arr + arr\n",
    "print 1/arr\n",
    "print arr **0.5 # Exponentiation"
   ]
  },
  {
   "cell_type": "markdown",
   "metadata": {},
   "source": [
    "### Basic Indexing\n",
    "\n",
    "We can call upon individual elements using `array[]`\n",
    "\n",
    "**slice** is a part of an array\n",
    "\n",
    "**scalar** are single digits\n",
    "\n",
    "**propagated** spread widely"
   ]
  },
  {
   "cell_type": "code",
   "execution_count": 15,
   "metadata": {},
   "outputs": [
    {
     "name": "stdout",
     "output_type": "stream",
     "text": [
      "5\n",
      "[5 6 7 8 9]\n",
      "[0 1 2 3 4 0 0 0 0 0]\n"
     ]
    }
   ],
   "source": [
    "arr = np.arange(10)\n",
    "print(arr[5])\n",
    "print(arr[5:10]) # the last number is not considered part of the output\n",
    "\n",
    "# change the values directly by assigned a scalar value to a slice. \n",
    "# The scalar is propagated to the entire selection\n",
    "arr[5:11] = 0\n",
    "print(arr)"
   ]
  },
  {
   "cell_type": "markdown",
   "metadata": {},
   "source": [
    "An important difference from lists is that array slices are *views* on the original array, meaning that any modifications to the view will be reflected in the original array."
   ]
  },
  {
   "cell_type": "code",
   "execution_count": 16,
   "metadata": {},
   "outputs": [
    {
     "name": "stdout",
     "output_type": "stream",
     "text": [
      "[0 0 0 0 0]\n",
      "[100000000 100000000 100000000 100000000 100000000]\n"
     ]
    }
   ],
   "source": [
    "arr_slice = arr[5:11]\n",
    "\n",
    "arr_slice[1] = 0\n",
    "\n",
    "print(arr_slice)\n",
    "\n",
    "arr_slice[:] = 100000000 # A colon by itself means to take the entire axis\n",
    "\n",
    "print(arr_slice)"
   ]
  },
  {
   "cell_type": "markdown",
   "metadata": {},
   "source": [
    "With >2D arrays, the elements at each index are 1D arrays"
   ]
  },
  {
   "cell_type": "code",
   "execution_count": 17,
   "metadata": {},
   "outputs": [
    {
     "data": {
      "text/plain": [
       "array([7, 8, 9])"
      ]
     },
     "execution_count": 17,
     "metadata": {},
     "output_type": "execute_result"
    }
   ],
   "source": [
    "arr2d = np.array([[1,2,3],[4,5,6],[7,8,9]])\n",
    "\n",
    "arr2d[2]"
   ]
  },
  {
   "cell_type": "markdown",
   "metadata": {},
   "source": [
    "To access individual elements of a >2D array, pass a comma-separated list of indices to select elmeents. In 3D arrays, if we omit later indices and pass just a scalar, the returned object will be the lower dimensional ndarray consisting of all the data "
   ]
  },
  {
   "cell_type": "code",
   "execution_count": 18,
   "metadata": {},
   "outputs": [
    {
     "name": "stdout",
     "output_type": "stream",
     "text": [
      "[[[ 1  2  3]\n",
      "  [ 4  5  6]]\n",
      "\n",
      " [[ 7  8  9]\n",
      "  [10 11 12]]]\n"
     ]
    }
   ],
   "source": [
    "# 3D Array 2 x 2 x 3\n",
    "arr3d = np.array([[[1,2,3],[4,5,6]],[[7,8,9],[10,11,12]]])\n",
    "print arr3d"
   ]
  },
  {
   "cell_type": "code",
   "execution_count": 19,
   "metadata": {},
   "outputs": [
    {
     "name": "stdout",
     "output_type": "stream",
     "text": [
      "[[1 2 3]\n",
      " [4 5 6]]\n",
      "\n",
      "[1 2 3]\n",
      "\n",
      "[4 5 6]\n"
     ]
    }
   ],
   "source": [
    "print(arr3d[0]) # Return ndarray 0\n",
    "print''\n",
    "print(arr3d[0,0]) # Return ndarry 0 axis 0 (Row 0)\n",
    "print''\n",
    "print(arr3d[0,1]) # Return ndarray 0 axis 1"
   ]
  },
  {
   "cell_type": "code",
   "execution_count": 20,
   "metadata": {},
   "outputs": [
    {
     "name": "stdout",
     "output_type": "stream",
     "text": [
      "[[[42 42 42]\n",
      "  [42 42 42]]\n",
      "\n",
      " [[ 7  8  9]\n",
      "  [10 11 12]]]\n",
      "\n",
      "[[[ 1  2  3]\n",
      "  [ 4  5  6]]\n",
      "\n",
      " [[ 7  8  9]\n",
      "  [10 11 12]]]\n"
     ]
    }
   ],
   "source": [
    "old_values = arr3d[0].copy()\n",
    "\n",
    "arr3d[0] = 42\n",
    "\n",
    "print arr3d\n",
    "print''\n",
    "arr3d[0] = old_values\n",
    "\n",
    "print arr3d"
   ]
  },
  {
   "cell_type": "markdown",
   "metadata": {},
   "source": [
    "#### Indexing with slices"
   ]
  },
  {
   "cell_type": "code",
   "execution_count": 21,
   "metadata": {},
   "outputs": [
    {
     "data": {
      "text/plain": [
       "array([        1,         2,         3,         4, 100000000])"
      ]
     },
     "execution_count": 21,
     "metadata": {},
     "output_type": "execute_result"
    }
   ],
   "source": [
    "arr[1:6]"
   ]
  },
  {
   "cell_type": "code",
   "execution_count": 22,
   "metadata": {},
   "outputs": [
    {
     "data": {
      "text/plain": [
       "array([[1, 2, 3],\n",
       "       [4, 5, 6]])"
      ]
     },
     "execution_count": 22,
     "metadata": {},
     "output_type": "execute_result"
    }
   ],
   "source": [
    "arr2d[:2]"
   ]
  },
  {
   "cell_type": "code",
   "execution_count": 23,
   "metadata": {},
   "outputs": [
    {
     "data": {
      "text/plain": [
       "array([[2, 3],\n",
       "       [5, 6]])"
      ]
     },
     "execution_count": 23,
     "metadata": {},
     "output_type": "execute_result"
    }
   ],
   "source": [
    "arr2d[:2,1:]  # Select Row 1, 2 and Columns 1,2"
   ]
  },
  {
   "cell_type": "code",
   "execution_count": 24,
   "metadata": {},
   "outputs": [
    {
     "data": {
      "text/plain": [
       "array([4, 5])"
      ]
     },
     "execution_count": 24,
     "metadata": {},
     "output_type": "execute_result"
    }
   ],
   "source": [
    "# Mixing integer indexes and slices gets you lower dimensional slices\n",
    "\n",
    "arr2d[1,:2] # Recall 2 is not included in the count of a slice"
   ]
  },
  {
   "cell_type": "code",
   "execution_count": 25,
   "metadata": {},
   "outputs": [
    {
     "data": {
      "text/plain": [
       "array([7])"
      ]
     },
     "execution_count": 25,
     "metadata": {},
     "output_type": "execute_result"
    }
   ],
   "source": [
    "arr2d[2,:1] # Row axis 2,Column axis 0"
   ]
  },
  {
   "cell_type": "markdown",
   "metadata": {},
   "source": [
    "### Boolean Indexing"
   ]
  },
  {
   "cell_type": "markdown",
   "metadata": {},
   "source": [
    "To generate some random normally distributed data, use `randn` function from `numpy.random`. Selecting data from an array by boolean indexing always creates a copy of the data."
   ]
  },
  {
   "cell_type": "code",
   "execution_count": 26,
   "metadata": {
    "scrolled": true
   },
   "outputs": [
    {
     "name": "stdout",
     "output_type": "stream",
     "text": [
      "['Bob' 'Joe' 'Will' 'Bob' 'Will' 'Joe' 'Joe']\n",
      "\n",
      "[[ 0.22686939 -1.03787842  1.04256982  0.81685705]\n",
      " [-0.62288664 -0.05943373 -2.34261394 -0.03440283]\n",
      " [ 1.6598063   0.0840991   0.25405968  2.49153799]\n",
      " [-0.885544    0.93793348  1.37813532  0.36885533]\n",
      " [-0.35930713  0.23494922  2.28398274  1.66976128]\n",
      " [ 1.31681794  1.0412515  -0.57852522  1.71161624]\n",
      " [-0.19036411 -0.00515259 -1.46820832 -0.16882016]]\n"
     ]
    }
   ],
   "source": [
    "names = np.array(['Bob','Joe','Will','Bob','Will','Joe','Joe'])\n",
    "\n",
    "data = np.random.randn(7,4)\n",
    "\n",
    "print(names)\n",
    "print''\n",
    "print(data)"
   ]
  },
  {
   "cell_type": "markdown",
   "metadata": {},
   "source": [
    "We can make comparisons using arithmetic operations with arrays, which yields boolean (True/False) array(s)."
   ]
  },
  {
   "cell_type": "code",
   "execution_count": 27,
   "metadata": {},
   "outputs": [
    {
     "data": {
      "text/plain": [
       "array([ True, False, False,  True, False, False, False], dtype=bool)"
      ]
     },
     "execution_count": 27,
     "metadata": {},
     "output_type": "execute_result"
    }
   ],
   "source": [
    "names == 'Bob'"
   ]
  },
  {
   "cell_type": "markdown",
   "metadata": {},
   "source": [
    "This boolean array can be passes as an index on the array where it returns any indices that yield true. However, the boolean array must be of the same length as the axis it's indexing. You can mix and match boolean arrays with slices or integers."
   ]
  },
  {
   "cell_type": "code",
   "execution_count": 28,
   "metadata": {},
   "outputs": [
    {
     "data": {
      "text/plain": [
       "array([[ 0.22686939, -1.03787842,  1.04256982,  0.81685705],\n",
       "       [-0.885544  ,  0.93793348,  1.37813532,  0.36885533]])"
      ]
     },
     "execution_count": 28,
     "metadata": {},
     "output_type": "execute_result"
    }
   ],
   "source": [
    "data[names =='Bob'] # There are 2 True's"
   ]
  },
  {
   "cell_type": "code",
   "execution_count": 29,
   "metadata": {},
   "outputs": [
    {
     "data": {
      "text/plain": [
       "array([[ 1.04256982,  0.81685705],\n",
       "       [ 1.37813532,  0.36885533]])"
      ]
     },
     "execution_count": 29,
     "metadata": {},
     "output_type": "execute_result"
    }
   ],
   "source": [
    "data[names=='Bob', 2:] # mix and match boolean arrays with slices, integers"
   ]
  },
  {
   "cell_type": "code",
   "execution_count": 30,
   "metadata": {},
   "outputs": [
    {
     "data": {
      "text/plain": [
       "array([ 0.81685705,  0.36885533])"
      ]
     },
     "execution_count": 30,
     "metadata": {},
     "output_type": "execute_result"
    }
   ],
   "source": [
    "data[names=='Bob',3]"
   ]
  },
  {
   "cell_type": "markdown",
   "metadata": {},
   "source": [
    "To select everything but 'Bob', we can use != or negate the condition using ~:"
   ]
  },
  {
   "cell_type": "code",
   "execution_count": 31,
   "metadata": {},
   "outputs": [
    {
     "data": {
      "text/plain": [
       "array([False,  True,  True, False,  True,  True,  True], dtype=bool)"
      ]
     },
     "execution_count": 31,
     "metadata": {},
     "output_type": "execute_result"
    }
   ],
   "source": [
    "names != 'Bob'"
   ]
  },
  {
   "cell_type": "code",
   "execution_count": 32,
   "metadata": {},
   "outputs": [
    {
     "data": {
      "text/plain": [
       "array([[-0.62288664, -0.05943373, -2.34261394, -0.03440283],\n",
       "       [ 1.6598063 ,  0.0840991 ,  0.25405968,  2.49153799],\n",
       "       [-0.35930713,  0.23494922,  2.28398274,  1.66976128],\n",
       "       [ 1.31681794,  1.0412515 , -0.57852522,  1.71161624],\n",
       "       [-0.19036411, -0.00515259, -1.46820832, -0.16882016]])"
      ]
     },
     "execution_count": 32,
     "metadata": {},
     "output_type": "execute_result"
    }
   ],
   "source": [
    "data[~(names=='Bob')]"
   ]
  },
  {
   "cell_type": "markdown",
   "metadata": {},
   "source": [
    "We can combine multiple boolean conditions, using `&` for AND and `|` for OR"
   ]
  },
  {
   "cell_type": "code",
   "execution_count": 33,
   "metadata": {},
   "outputs": [
    {
     "name": "stdout",
     "output_type": "stream",
     "text": [
      "[ True False  True  True  True False False]\n",
      "['Bob' 'Joe' 'Will' 'Bob' 'Will' 'Joe' 'Joe']\n"
     ]
    },
    {
     "data": {
      "text/plain": [
       "array([[ 0.22686939, -1.03787842,  1.04256982,  0.81685705],\n",
       "       [ 1.6598063 ,  0.0840991 ,  0.25405968,  2.49153799],\n",
       "       [-0.885544  ,  0.93793348,  1.37813532,  0.36885533],\n",
       "       [-0.35930713,  0.23494922,  2.28398274,  1.66976128]])"
      ]
     },
     "execution_count": 33,
     "metadata": {},
     "output_type": "execute_result"
    }
   ],
   "source": [
    "mask = (names=='Bob') | (names=='Will')\n",
    "print(mask)\n",
    "print(names)\n",
    "\n",
    "data[mask]"
   ]
  },
  {
   "cell_type": "code",
   "execution_count": 34,
   "metadata": {},
   "outputs": [
    {
     "data": {
      "text/plain": [
       "array([[ 1.,  0.,  1.,  1.],\n",
       "       [ 0.,  0.,  0.,  0.],\n",
       "       [ 1.,  1.,  1.,  1.],\n",
       "       [ 0.,  1.,  1.,  1.],\n",
       "       [ 0.,  1.,  1.,  1.],\n",
       "       [ 1.,  1.,  0.,  1.],\n",
       "       [ 0.,  0.,  0.,  0.]])"
      ]
     },
     "execution_count": 34,
     "metadata": {},
     "output_type": "execute_result"
    }
   ],
   "source": [
    "data[data < 0] = 0\n",
    "data[data > 0] = 1\n",
    "data"
   ]
  },
  {
   "cell_type": "code",
   "execution_count": 35,
   "metadata": {},
   "outputs": [
    {
     "data": {
      "text/plain": [
       "array([[ 77.,  77.,  77.,  77.],\n",
       "       [  0.,   0.,   0.,   0.],\n",
       "       [ 77.,  77.,  77.,  77.],\n",
       "       [ 77.,  77.,  77.,  77.],\n",
       "       [ 77.,  77.,  77.,  77.],\n",
       "       [  1.,   1.,   0.,   1.],\n",
       "       [  0.,   0.,   0.,   0.]])"
      ]
     },
     "execution_count": 35,
     "metadata": {},
     "output_type": "execute_result"
    }
   ],
   "source": [
    "data[names != 'Joe'] = 77\n",
    "data"
   ]
  },
  {
   "cell_type": "markdown",
   "metadata": {},
   "source": [
    "### Fancy Indexing\n",
    "\n",
    "Whereby we index using integer arrays"
   ]
  },
  {
   "cell_type": "code",
   "execution_count": 36,
   "metadata": {},
   "outputs": [
    {
     "name": "stdout",
     "output_type": "stream",
     "text": [
      "[[ 0.  0.  0.  0.]\n",
      " [ 1.  1.  1.  1.]\n",
      " [ 2.  2.  2.  2.]\n",
      " [ 3.  3.  3.  3.]\n",
      " [ 4.  4.  4.  4.]\n",
      " [ 5.  5.  5.  5.]\n",
      " [ 6.  6.  6.  6.]\n",
      " [ 7.  7.  7.  7.]]\n",
      "\n"
     ]
    },
    {
     "data": {
      "text/plain": [
       "array([[ 4.,  4.,  4.,  4.],\n",
       "       [ 3.,  3.,  3.,  3.],\n",
       "       [ 0.,  0.,  0.,  0.],\n",
       "       [ 6.,  6.,  6.,  6.]])"
      ]
     },
     "execution_count": 36,
     "metadata": {},
     "output_type": "execute_result"
    }
   ],
   "source": [
    "arr = np.empty((8,4))\n",
    "\n",
    "for i in range(8):\n",
    "    arr[i] = i\n",
    "    \n",
    "print(arr)\n",
    "print''\n",
    "arr[[4,3,0,6]]"
   ]
  },
  {
   "cell_type": "markdown",
   "metadata": {},
   "source": [
    "Using negative indices, select rows from the end counting backwards"
   ]
  },
  {
   "cell_type": "code",
   "execution_count": 37,
   "metadata": {},
   "outputs": [
    {
     "data": {
      "text/plain": [
       "array([[ 5.,  5.,  5.,  5.],\n",
       "       [ 3.,  3.,  3.,  3.],\n",
       "       [ 1.,  1.,  1.,  1.]])"
      ]
     },
     "execution_count": 37,
     "metadata": {},
     "output_type": "execute_result"
    }
   ],
   "source": [
    "arr[[-3,-5,-7]]"
   ]
  },
  {
   "cell_type": "markdown",
   "metadata": {},
   "source": [
    "We can reshape arrays using np.reshape option"
   ]
  },
  {
   "cell_type": "code",
   "execution_count": 38,
   "metadata": {},
   "outputs": [
    {
     "data": {
      "text/plain": [
       "array([[ 0,  1,  2,  3],\n",
       "       [ 4,  5,  6,  7],\n",
       "       [ 8,  9, 10, 11],\n",
       "       [12, 13, 14, 15],\n",
       "       [16, 17, 18, 19],\n",
       "       [20, 21, 22, 23],\n",
       "       [24, 25, 26, 27],\n",
       "       [28, 29, 30, 31]])"
      ]
     },
     "execution_count": 38,
     "metadata": {},
     "output_type": "execute_result"
    }
   ],
   "source": [
    "arr = np.arange(32).reshape((8,4))\n",
    "arr"
   ]
  },
  {
   "cell_type": "code",
   "execution_count": 39,
   "metadata": {},
   "outputs": [
    {
     "data": {
      "text/plain": [
       "array([ 4, 23, 29, 10])"
      ]
     },
     "execution_count": 39,
     "metadata": {},
     "output_type": "execute_result"
    }
   ],
   "source": [
    "arr[[1,5,7,2],[0,3,1,2]]\n",
    "\n",
    "# Select (1,0) ...(5,3)...(7,1)...(2,2)"
   ]
  },
  {
   "cell_type": "markdown",
   "metadata": {},
   "source": [
    "#### Transposing Arrays and Swapping Axes\n",
    "\n",
    "Transposing is a special form of reshaping the matrix where row --> columns and vice versa"
   ]
  },
  {
   "cell_type": "code",
   "execution_count": 40,
   "metadata": {},
   "outputs": [
    {
     "data": {
      "text/plain": [
       "array([[ 0,  1,  2,  3,  4],\n",
       "       [ 5,  6,  7,  8,  9],\n",
       "       [10, 11, 12, 13, 14]])"
      ]
     },
     "execution_count": 40,
     "metadata": {},
     "output_type": "execute_result"
    }
   ],
   "source": [
    "arr = np.arange(15).reshape((3,5))\n",
    "\n",
    "arr"
   ]
  },
  {
   "cell_type": "code",
   "execution_count": 41,
   "metadata": {},
   "outputs": [
    {
     "data": {
      "text/plain": [
       "array([[ 0,  5, 10],\n",
       "       [ 1,  6, 11],\n",
       "       [ 2,  7, 12],\n",
       "       [ 3,  8, 13],\n",
       "       [ 4,  9, 14]])"
      ]
     },
     "execution_count": 41,
     "metadata": {},
     "output_type": "execute_result"
    }
   ],
   "source": [
    "arr.T"
   ]
  },
  {
   "cell_type": "markdown",
   "metadata": {},
   "source": [
    "To compute **inner matrix** which is a matrix times the transpose of itself, use the `np.dot(arr.T, arr)` method:"
   ]
  },
  {
   "cell_type": "code",
   "execution_count": 42,
   "metadata": {},
   "outputs": [
    {
     "name": "stdout",
     "output_type": "stream",
     "text": [
      "[[ 0.2166502   0.22676602 -1.13728509]\n",
      " [-0.22599891  0.04464421 -0.0314991 ]\n",
      " [ 0.72588707  0.86527759 -1.28447265]\n",
      " [-0.1523244   1.84638518 -0.76626155]\n",
      " [ 0.48044259  0.07202031  1.13593044]\n",
      " [ 0.87561737  0.11036596  0.06880243]]\n"
     ]
    },
    {
     "data": {
      "text/plain": [
       "array([[ 1.64565845,  0.51712363, -0.44894207],\n",
       "       [ 0.51712363,  4.22862703, -2.69613974],\n",
       "       [-0.44894207, -2.69613974,  4.82650807]])"
      ]
     },
     "execution_count": 42,
     "metadata": {},
     "output_type": "execute_result"
    }
   ],
   "source": [
    "arr = np.random.randn(6,3)\n",
    "print(arr)\n",
    "\n",
    "np.dot(arr.T, arr)"
   ]
  },
  {
   "cell_type": "code",
   "execution_count": 43,
   "metadata": {},
   "outputs": [
    {
     "name": "stdout",
     "output_type": "stream",
     "text": [
      "[[0 1 2]\n",
      " [3 4 5]]\n",
      "\n",
      "[[ 0  1  2  3]\n",
      " [ 4  5  6  7]\n",
      " [ 8  9 10 11]]\n",
      "\n"
     ]
    },
    {
     "data": {
      "text/plain": [
       "array([[20, 23, 26, 29],\n",
       "       [56, 68, 80, 92]])"
      ]
     },
     "execution_count": 43,
     "metadata": {},
     "output_type": "execute_result"
    }
   ],
   "source": [
    "arr = np.arange(6).reshape(2,3)\n",
    "print arr\n",
    "arr1= np.arange(12).reshape(3,4)\n",
    "print''\n",
    "print arr1\n",
    "print''\n",
    "# Multiplication 2x3 * 3x4 = 2x4\n",
    "np.dot(arr,arr1)"
   ]
  },
  {
   "cell_type": "markdown",
   "metadata": {},
   "source": [
    "We can also creater 3D arrays using a tuple to pass the axis numbers:"
   ]
  },
  {
   "cell_type": "code",
   "execution_count": 44,
   "metadata": {},
   "outputs": [
    {
     "data": {
      "text/plain": [
       "array([[[ 0,  1,  2,  3],\n",
       "        [ 4,  5,  6,  7]],\n",
       "\n",
       "       [[ 8,  9, 10, 11],\n",
       "        [12, 13, 14, 15]]])"
      ]
     },
     "execution_count": 44,
     "metadata": {},
     "output_type": "execute_result"
    }
   ],
   "source": [
    "arr= np.arange(16).reshape(2,2,4)\n",
    "arr"
   ]
  },
  {
   "cell_type": "code",
   "execution_count": 45,
   "metadata": {},
   "outputs": [
    {
     "data": {
      "text/plain": [
       "array([[[ 0,  1,  2,  3],\n",
       "        [ 8,  9, 10, 11]],\n",
       "\n",
       "       [[ 4,  5,  6,  7],\n",
       "        [12, 13, 14, 15]]])"
      ]
     },
     "execution_count": 45,
     "metadata": {},
     "output_type": "execute_result"
    }
   ],
   "source": [
    "arr.transpose((1,0,2))\n",
    "\n",
    "# Transpose dimension 1, row 0, with row 2?"
   ]
  },
  {
   "cell_type": "markdown",
   "metadata": {},
   "source": [
    "ndarray has the method `swapaxes` which takes a pair of axis numbers"
   ]
  },
  {
   "cell_type": "code",
   "execution_count": 46,
   "metadata": {},
   "outputs": [
    {
     "data": {
      "text/plain": [
       "array([[[ 0,  4],\n",
       "        [ 1,  5],\n",
       "        [ 2,  6],\n",
       "        [ 3,  7]],\n",
       "\n",
       "       [[ 8, 12],\n",
       "        [ 9, 13],\n",
       "        [10, 14],\n",
       "        [11, 15]]])"
      ]
     },
     "execution_count": 46,
     "metadata": {},
     "output_type": "execute_result"
    }
   ],
   "source": [
    "\n",
    "arr.swapaxes(1,2)\n",
    "\n",
    "# Means axis 1 becomes axis 2 and axis 2 becomes axis 1"
   ]
  },
  {
   "cell_type": "markdown",
   "metadata": {},
   "source": [
    "### Universal Functions: Elementwise array functions\n",
    "\n",
    "or aka ufunc's"
   ]
  },
  {
   "cell_type": "code",
   "execution_count": 47,
   "metadata": {},
   "outputs": [
    {
     "name": "stdout",
     "output_type": "stream",
     "text": [
      "[ 0.          1.          1.41421356  1.73205081  2.          2.23606798\n",
      "  2.44948974  2.64575131  2.82842712  3.        ]\n",
      "\n",
      "[  1.00000000e+00   2.71828183e+00   7.38905610e+00   2.00855369e+01\n",
      "   5.45981500e+01   1.48413159e+02   4.03428793e+02   1.09663316e+03\n",
      "   2.98095799e+03   8.10308393e+03]\n",
      "\n",
      "\n"
     ]
    },
    {
     "data": {
      "text/plain": [
       "array([False, False, False, False, False, False, False, False, False, False], dtype=bool)"
      ]
     },
     "execution_count": 47,
     "metadata": {},
     "output_type": "execute_result"
    }
   ],
   "source": [
    "arr = np.arange(10)\n",
    "\n",
    "#Square Root\n",
    "print(np.sqrt(arr))\n",
    "print''\n",
    "# Compute the exponent e^x of each element\n",
    "print(np.exp(arr))\n",
    "print ''\n",
    "# Round elements to the nearest integer while preserving the dtype\n",
    "np.rint(np.random.randn(8))\n",
    "print''\n",
    "# Return boolean array indicating which elemnet is NaN\n",
    "np.isnan(arr)\n"
   ]
  },
  {
   "cell_type": "code",
   "execution_count": 48,
   "metadata": {},
   "outputs": [
    {
     "name": "stdout",
     "output_type": "stream",
     "text": [
      "[-0.01813621 -0.97034562 -0.75139559 -0.66368541 -1.62470233  0.04586162\n",
      " -1.91296103  0.77605912] [ 1.36162833  1.62906031  1.74887393  0.49287437  0.64549954  1.39076663\n",
      "  1.41258785  0.43283502]\n",
      "[ 1.36162833  1.62906031  1.74887393  0.49287437  0.64549954  1.39076663\n",
      "  1.41258785  0.77605912]\n"
     ]
    }
   ],
   "source": [
    "x = np.random.randn(8)\n",
    "y=np.random.randn(8)\n",
    "print x, y\n",
    "\n",
    "#Binary ufuncs which takes 2 arrays and returns 1 array after comparing the 2 arrays\n",
    "\n",
    "print(np.maximum(x,y))"
   ]
  },
  {
   "cell_type": "code",
   "execution_count": 49,
   "metadata": {},
   "outputs": [
    {
     "data": {
      "text/plain": [
       "array([ 1.34349212,  0.65871469,  0.99747835, -0.17081105, -0.97920279,\n",
       "        1.43662826, -0.50037317,  1.20889414])"
      ]
     },
     "execution_count": 49,
     "metadata": {},
     "output_type": "execute_result"
    }
   ],
   "source": [
    "np.add(x,y)"
   ]
  },
  {
   "cell_type": "code",
   "execution_count": 50,
   "metadata": {},
   "outputs": [
    {
     "data": {
      "text/plain": [
       "array([-1.37976455, -2.59940593, -2.50026952, -1.15655978, -2.27020188,\n",
       "       -1.34490501, -3.32554888,  0.3432241 ])"
      ]
     },
     "execution_count": 50,
     "metadata": {},
     "output_type": "execute_result"
    }
   ],
   "source": [
    "np.subtract(x,y)"
   ]
  },
  {
   "cell_type": "code",
   "execution_count": 51,
   "metadata": {},
   "outputs": [
    {
     "data": {
      "text/plain": [
       "array([-0.02469478, -1.58075153, -1.31409616, -0.32711353, -1.04874461,\n",
       "        0.06378282, -2.70222551,  0.33590556])"
      ]
     },
     "execution_count": 51,
     "metadata": {},
     "output_type": "execute_result"
    }
   ],
   "source": [
    "np.multiply(x,y)"
   ]
  },
  {
   "cell_type": "code",
   "execution_count": 52,
   "metadata": {},
   "outputs": [
    {
     "data": {
      "text/plain": [
       "array([   1,    8,   81, 1024])"
      ]
     },
     "execution_count": 52,
     "metadata": {},
     "output_type": "execute_result"
    }
   ],
   "source": [
    "x = np.array([1,2,3,4])\n",
    "y = np.array([2,3,4,5])\n",
    "\n",
    "#Raises elements in first array to powers indicated in 2nd array\n",
    "\n",
    "np.power(x,y)"
   ]
  },
  {
   "cell_type": "code",
   "execution_count": 53,
   "metadata": {},
   "outputs": [
    {
     "name": "stdout",
     "output_type": "stream",
     "text": [
      "[False False False False]\n",
      "[ True  True  True  True]\n",
      "[ True  True  True  True]\n",
      "[False False False False]\n",
      "[ True  True  True  True]\n"
     ]
    }
   ],
   "source": [
    "# Perform element-wise comparison yielding a boolean array\n",
    "\n",
    "print(np.greater(x,y))\n",
    "print(np.less(x,y))\n",
    "print(np.less_equal(x,y))\n",
    "print(np.greater_equal(x,y))\n",
    "print(np.not_equal(x,y))"
   ]
  },
  {
   "cell_type": "markdown",
   "metadata": {},
   "source": [
    "The `np.meshgrid` function takes two 1D arrays and outputs two 2D matrices corresponding to all pairs of (x,y) in the two arrays so we can evaluate functions that involve more than one matrix"
   ]
  },
  {
   "cell_type": "code",
   "execution_count": 54,
   "metadata": {},
   "outputs": [
    {
     "name": "stdout",
     "output_type": "stream",
     "text": [
      "[[-5.   -5.   -5.   ..., -5.   -5.   -5.  ]\n",
      " [-4.99 -4.99 -4.99 ..., -4.99 -4.99 -4.99]\n",
      " [-4.98 -4.98 -4.98 ..., -4.98 -4.98 -4.98]\n",
      " ..., \n",
      " [ 4.97  4.97  4.97 ...,  4.97  4.97  4.97]\n",
      " [ 4.98  4.98  4.98 ...,  4.98  4.98  4.98]\n",
      " [ 4.99  4.99  4.99 ...,  4.99  4.99  4.99]]\n"
     ]
    }
   ],
   "source": [
    "points=np.arange(-5,5,0.01)\n",
    "\n",
    "xs, ys = np.meshgrid(points, points)\n",
    "print ys"
   ]
  },
  {
   "cell_type": "code",
   "execution_count": 55,
   "metadata": {},
   "outputs": [
    {
     "ename": "ValueError",
     "evalue": "operands could not be broadcast together with shapes (1000,1000) (4,) ",
     "output_type": "error",
     "traceback": [
      "\u001b[1;31m---------------------------------------------------------------------------\u001b[0m",
      "\u001b[1;31mValueError\u001b[0m                                Traceback (most recent call last)",
      "\u001b[1;32m<ipython-input-55-863955cbc249>\u001b[0m in \u001b[0;36m<module>\u001b[1;34m()\u001b[0m\n\u001b[0;32m      1\u001b[0m \u001b[1;32mimport\u001b[0m \u001b[0mmatplotlib\u001b[0m\u001b[1;33m.\u001b[0m\u001b[0mpyplot\u001b[0m \u001b[1;32mas\u001b[0m \u001b[0mplt\u001b[0m\u001b[1;33m\u001b[0m\u001b[0m\n\u001b[0;32m      2\u001b[0m \u001b[1;33m\u001b[0m\u001b[0m\n\u001b[1;32m----> 3\u001b[1;33m \u001b[0mz\u001b[0m \u001b[1;33m=\u001b[0m \u001b[0mnp\u001b[0m\u001b[1;33m.\u001b[0m\u001b[0msqrt\u001b[0m\u001b[1;33m(\u001b[0m\u001b[0mxs\u001b[0m \u001b[1;33m**\u001b[0m \u001b[1;36m2\u001b[0m \u001b[1;33m+\u001b[0m \u001b[0my\u001b[0m \u001b[1;33m**\u001b[0m \u001b[1;36m2\u001b[0m\u001b[1;33m)\u001b[0m\u001b[1;33m\u001b[0m\u001b[0m\n\u001b[0m\u001b[0;32m      4\u001b[0m \u001b[0mz\u001b[0m\u001b[1;33m\u001b[0m\u001b[0m\n",
      "\u001b[1;31mValueError\u001b[0m: operands could not be broadcast together with shapes (1000,1000) (4,) "
     ]
    }
   ],
   "source": [
    "import matplotlib.pyplot as plt\n",
    "\n",
    "z = np.sqrt(xs ** 2 + y ** 2)\n",
    "z"
   ]
  },
  {
   "cell_type": "markdown",
   "metadata": {},
   "source": [
    "The `numpy.where` function is a vectorized version of the expression `x if condition else y`. "
   ]
  },
  {
   "cell_type": "code",
   "execution_count": null,
   "metadata": {},
   "outputs": [],
   "source": [
    "xarr = np.array([1.1,1.2,1.3,1.4,1.5,])\n",
    "yarr = xarr + 1\n",
    "\n",
    "print xarr, yarr\n",
    "\n",
    "cond = np.array([True, False, True, True, False])\n",
    "\n",
    "result = np.where(cond, xarr, yarr) #np.where(condition,value if True, value if False)\n",
    "print result"
   ]
  },
  {
   "cell_type": "code",
   "execution_count": null,
   "metadata": {},
   "outputs": [],
   "source": [
    "# Task: Replace all positive values with 2 and all negative values with -2\n",
    "\n",
    "arr = np.random.randn(4,4)\n",
    "print arr\n",
    "\n",
    "print(np.where(arr > 0, 2, -2))\n",
    "print(np.where(arr > 0, \"positive\", \"negative\"))\n",
    "\n",
    "# Set only positive values to 2. If negative, do nothing\n",
    "\n",
    "print(np.where(arr > 0, 2, arr))"
   ]
  },
  {
   "cell_type": "markdown",
   "metadata": {},
   "source": [
    "Nested If Statements can be expressed in nested `np.where` statements"
   ]
  },
  {
   "cell_type": "code",
   "execution_count": null,
   "metadata": {
    "collapsed": true
   },
   "outputs": [],
   "source": [
    "np.where(cond1 & cond2, 0, \n",
    "         np.where(cond1,1, \n",
    "                  np.where(cond2, 2, 3)))"
   ]
  },
  {
   "cell_type": "markdown",
   "metadata": {
    "collapsed": true
   },
   "source": [
    "### Math and Stat Methods"
   ]
  },
  {
   "cell_type": "code",
   "execution_count": null,
   "metadata": {},
   "outputs": [],
   "source": [
    "arr = np.arange(20).reshape(5,4)\n",
    "print arr\n",
    "print''\n",
    "print(arr.mean())\n",
    "print(np.mean(arr))\n",
    "print''\n",
    "\n",
    "print arr.sum()\n",
    "print(np.sum(arr))\n",
    "print''\n",
    "\n",
    "# Optional axis argument which computes the method over a given axis\n",
    "print arr.mean(axis=0) # Computes mean by columns\n",
    "print arr.mean(axis=1) # Computes mean by rows\n",
    "print arr.sum(0)"
   ]
  },
  {
   "cell_type": "code",
   "execution_count": null,
   "metadata": {},
   "outputs": [],
   "source": [
    "# cumsum and cumprod does not aggregate. It produces an array of intermediate, cascading, cumulative results.\n",
    "\n",
    "arr = np.arange(9).reshape(3,3)\n",
    "print(arr)\n",
    "\n",
    "arr.cumsum(0) # 0, 1, 2.... 0+3, 1+4, 2+5..... 0+3+9, 1+5+12, 2+7+15"
   ]
  },
  {
   "cell_type": "code",
   "execution_count": null,
   "metadata": {},
   "outputs": [],
   "source": [
    "arr.cumprod(1)"
   ]
  },
  {
   "cell_type": "code",
   "execution_count": null,
   "metadata": {},
   "outputs": [],
   "source": [
    "print(arr.std)\n",
    "print(arr.std())\n",
    "print(arr.var())\n",
    "print(arr.min())\n",
    "print(arr.max())\n",
    "print(arr.argmin()) # Return the index of min element\n",
    "print(arr.argmax()) # Return the index of max element"
   ]
  },
  {
   "cell_type": "markdown",
   "metadata": {
    "collapsed": true
   },
   "source": [
    "### Methods for Boolean Arrays (T/F's)\n",
    "\n",
    "`sum` is often used as a means of counting `True` values in a boolean array. \n"
   ]
  },
  {
   "cell_type": "code",
   "execution_count": null,
   "metadata": {},
   "outputs": [],
   "source": [
    "arr = np.random.randn(100)\n",
    "print arr\n",
    "\n",
    "# How many values are positive?\n",
    "\n",
    "print((arr > 0).sum())"
   ]
  },
  {
   "cell_type": "markdown",
   "metadata": {},
   "source": [
    "`any` method tests whether 1 or more values in an array is True.\n",
    "\n",
    "`all` method tests if every value is True"
   ]
  },
  {
   "cell_type": "code",
   "execution_count": null,
   "metadata": {},
   "outputs": [],
   "source": [
    "bools=np.array([False, False, True, False])\n",
    "\n",
    "# Are there any True's in the array?\n",
    "print(bools.any())\n",
    "\n",
    "# Are all the values True in the array?\n",
    "print(bools.all())"
   ]
  },
  {
   "cell_type": "markdown",
   "metadata": {},
   "source": [
    "### Sorting \n",
    "\n",
    "Arrays can be sorted in replacement using the `sort()` method."
   ]
  },
  {
   "cell_type": "code",
   "execution_count": null,
   "metadata": {},
   "outputs": [],
   "source": [
    "arr = np.random.randn(8)\n",
    "print(arr)\n",
    "\n",
    "arr.sort()\n",
    "print(arr)"
   ]
  },
  {
   "cell_type": "markdown",
   "metadata": {},
   "source": [
    "Multidimensional arrays can have each 1D section of values sorted in replacement along an axis by passing the axis # to sort"
   ]
  },
  {
   "cell_type": "code",
   "execution_count": null,
   "metadata": {},
   "outputs": [],
   "source": [
    "arr = np.random.randn(5,3)\n",
    "print(arr)\n",
    "print''\n",
    "\n",
    "#To sort by row use axis = 1\n",
    "\n",
    "arr.sort(1)\n",
    "print(arr)\n",
    "print''\n",
    "# To sort by column use axis = 0 \n",
    "arr.sort(0)\n",
    "print(arr)"
   ]
  },
  {
   "cell_type": "code",
   "execution_count": null,
   "metadata": {},
   "outputs": [],
   "source": [
    "# To sort without replacement, use np.sort()\n",
    "arr = np.random.randn(5,3)\n",
    "print(arr)\n",
    "print''\n",
    "print(np.sort(arr))\n",
    "print''\n",
    "print(arr)"
   ]
  },
  {
   "cell_type": "markdown",
   "metadata": {},
   "source": [
    "A quick way to compute the quantiles of an array is to \n",
    "\n",
    "1) sort the array\n",
    "\n",
    "2) select the __% value using 5% times the length of the array"
   ]
  },
  {
   "cell_type": "code",
   "execution_count": null,
   "metadata": {},
   "outputs": [],
   "source": [
    "large_arr = np.random.randn(1000)\n",
    "\n",
    "large_arr.sort()\n",
    "\n",
    "large_arr[int(0.05*len(large_arr))] #5% quantile"
   ]
  },
  {
   "cell_type": "markdown",
   "metadata": {},
   "source": [
    "#### Unique and Other Set Logic"
   ]
  },
  {
   "cell_type": "code",
   "execution_count": null,
   "metadata": {},
   "outputs": [],
   "source": [
    "# Return a list of sorted, unique values in an array\n",
    "\n",
    "names = np.array(['Bob','Joe','Will','Bob','Will','Joe','Joe'])\n",
    "print(np.unique(names))\n",
    "\n",
    "ints = np.array([3,3,3,2,2,2,1,1,5,4])\n",
    "np.unique(ints)"
   ]
  },
  {
   "cell_type": "code",
   "execution_count": null,
   "metadata": {},
   "outputs": [],
   "source": [
    "# Test the membership of values in 1 array vs. another. Return True if the array has the value, False if not\n",
    "\n",
    "values = np.array([6,0,0,3,2,5,6])\n",
    "print(np.in1d(values, [2,3,5])) "
   ]
  },
  {
   "cell_type": "markdown",
   "metadata": {},
   "source": [
    "### File Input and Output with Arrays"
   ]
  },
  {
   "cell_type": "markdown",
   "metadata": {},
   "source": [
    "`np.save` saves array data on disk as an uncompressed raw binary format with file extension .npy\n",
    "\n",
    "`np.load` loads array saved in a file"
   ]
  },
  {
   "cell_type": "code",
   "execution_count": null,
   "metadata": {},
   "outputs": [],
   "source": [
    "arr = np.arange(10)\n",
    "np.save('some_array.npy', arr) # argument: (file name, array)\n",
    "\n",
    "# Load the array from file\n",
    "np.load('some_array.npy')"
   ]
  },
  {
   "cell_type": "markdown",
   "metadata": {},
   "source": [
    "We can save multiple arrays in 1 file in a zip archive using np.savez and passing the arrays as keyword arguments. File extension is .npz."
   ]
  },
  {
   "cell_type": "code",
   "execution_count": null,
   "metadata": {},
   "outputs": [],
   "source": [
    "arr1=np.arange(20)\n",
    "\n",
    "np.savez('arrays.npz', one=arr, two=arr1)\n",
    "\n",
    "arch = np.load('arrays.npz')\n",
    "print(arch['one'])\n",
    "print(arch['two'])"
   ]
  },
  {
   "cell_type": "markdown",
   "metadata": {},
   "source": [
    "Load data into ndarrays using np.loadtxt or np.genfromtxt"
   ]
  },
  {
   "cell_type": "code",
   "execution_count": 59,
   "metadata": {},
   "outputs": [
    {
     "name": "stdout",
     "output_type": "stream",
     "text": [
      "C:\\Users\\sonya\\Documents\\Python for Data Analysis\\data\n",
      "['hola' 'hello' 'hey' 'howdy' 'ello']\n"
     ]
    }
   ],
   "source": [
    "%cd \"C:\\Users\\sonya\\Documents\\Python for Data Analysis\\data\"\n",
    "\n",
    "#!text.txt  # Open file\n",
    "\n",
    "arr = np.loadtxt('text.txt',delimiter=',', dtype='string')\n",
    "print(arr)"
   ]
  },
  {
   "cell_type": "markdown",
   "metadata": {},
   "source": [
    "### Linear Algebra"
   ]
  },
  {
   "cell_type": "markdown",
   "metadata": {},
   "source": [
    "Includes matrix multiplication, decompositions, determinants, and other square matrix math.\n",
    "\n",
    "With multiplication, the # of rows in matrix 1 needs to match the # of columns in matrix 2. The resulting dimension is the rows of matrix 1 by the columns of matrix 2"
   ]
  },
  {
   "cell_type": "code",
   "execution_count": 69,
   "metadata": {},
   "outputs": [
    {
     "name": "stdout",
     "output_type": "stream",
     "text": [
      "[[ 1.  2.  3.]\n",
      " [ 4.  5.  6.]]\n",
      "[[  6.  23.]\n",
      " [ -1.   7.]\n",
      " [  8.   9.]]\n",
      "[[  28.   64.]\n",
      " [  67.  181.]]\n",
      "\n",
      "[[  98.  127.  156.]\n",
      " [  27.   33.   39.]\n",
      " [  44.   61.   78.]]\n"
     ]
    }
   ],
   "source": [
    "x = np.array([[1.,2.,3.],[4.,5.,6.]])\n",
    "y= np.array([[6., 23.],[-1,7],[8,9]])\n",
    "\n",
    "print x\n",
    "print y\n",
    "\n",
    "# Multiply Matrices X times Y\n",
    "print(x.dot(y))  # or np.dot(x,y)\n",
    "print ''\n",
    "# Multiply matrices Y time X\n",
    "print(y.dot(x))"
   ]
  },
  {
   "cell_type": "code",
   "execution_count": 71,
   "metadata": {},
   "outputs": [
    {
     "name": "stdout",
     "output_type": "stream",
     "text": [
      "[ 1.  1.  1.]\n",
      "[[ 1.  2.  3.]\n",
      " [ 4.  5.  6.]]\n"
     ]
    }
   ],
   "source": [
    "print(np.ones(3))\n",
    "print(x)"
   ]
  },
  {
   "cell_type": "code",
   "execution_count": 73,
   "metadata": {},
   "outputs": [
    {
     "data": {
      "text/plain": [
       "array([  6.,  15.])"
      ]
     },
     "execution_count": 73,
     "metadata": {},
     "output_type": "execute_result"
    }
   ],
   "source": [
    "# A matrix product between a 2D array and a 1D array results in a 1D array \n",
    "np.dot(x,np.ones(3))"
   ]
  },
  {
   "cell_type": "markdown",
   "metadata": {},
   "source": [
    "`numpy.linalg` has matrix decompositions, inverses, and determinants. "
   ]
  },
  {
   "cell_type": "code",
   "execution_count": 91,
   "metadata": {},
   "outputs": [
    {
     "name": "stdout",
     "output_type": "stream",
     "text": [
      "[[-2.35000831  1.13964429  0.82073302  0.20367248 -0.53045475]\n",
      " [-0.08773397  0.23838804 -0.98029048  0.48833804 -0.4673859 ]\n",
      " [-0.03395577 -0.52969165  0.14824204  0.70081477 -0.33662501]\n",
      " [ 0.22188085 -0.37557086 -0.67979429 -0.34203564 -1.0792081 ]\n",
      " [-0.32459371  0.49844851 -1.17972069  2.12111182 -0.41600345]]\n",
      "\n",
      "Transposed Matrix is where rows become columns and vice versa: \n",
      "[[-2.35000831 -0.08773397 -0.03395577  0.22188085 -0.32459371]\n",
      " [ 1.13964429  0.23838804 -0.52969165 -0.37557086  0.49844851]\n",
      " [ 0.82073302 -0.98029048  0.14824204 -0.67979429 -1.17972069]\n",
      " [ 0.20367248  0.48833804  0.70081477 -0.34203564  2.12111182]\n",
      " [-0.53045475 -0.4673859  -0.33662501 -1.0792081  -0.41600345]]\n",
      "\n",
      "Inner matrix is symmetrical along the diagonal axis: \n",
      "[[ 5.68598149 -2.92622742 -1.61566173 -1.30966327  1.19458556]\n",
      " [-2.92622742  2.02569559  0.29041251  1.16303604 -0.33967866]\n",
      " [-1.61566173  0.29041251  3.51040901 -2.47746783  1.19731762]\n",
      " [-1.30966327  1.16303604 -2.47746783  5.38720161 -1.08545534]\n",
      " [ 1.19458556 -0.33967866  1.19731762 -1.08545534  1.95089721]]\n"
     ]
    }
   ],
   "source": [
    "from numpy.linalg import inv, qr\n",
    "\n",
    "X = np.random.randn(5,5)\n",
    "print X\n",
    "print''\n",
    "\n",
    "# Transpose\n",
    "mat = X.T\n",
    "print \"Transposed Matrix is where rows become columns and vice versa:\",\"\\n\",mat\n",
    "print''\n",
    "# Transpose of matrix x itself = Inner Matrix\n",
    "# Where the diagonal values are unique, and it's symmetrical along the diagonal\n",
    "mat = X.T.dot(X)\n",
    "print \"Inner matrix is symmetrical along the diagonal axis:\",\"\\n\",mat"
   ]
  },
  {
   "cell_type": "code",
   "execution_count": 81,
   "metadata": {},
   "outputs": [
    {
     "data": {
      "text/plain": [
       "array([[ 7.22158871,  1.23520723,  0.19659844,  2.97747064,  4.25441033],\n",
       "       [ 1.23520723,  0.4115676 ,  0.32986617,  0.74765313,  0.64662635],\n",
       "       [ 0.19659844,  0.32986617,  1.17397359,  1.43216857,  0.05044663],\n",
       "       [ 2.97747064,  0.74765313,  1.43216857,  3.3245876 ,  1.8463446 ],\n",
       "       [ 4.25441033,  0.64662635,  0.05044663,  1.8463446 ,  2.68856437]])"
      ]
     },
     "execution_count": 81,
     "metadata": {},
     "output_type": "execute_result"
    }
   ],
   "source": [
    "# Inverse\n",
    "inv(mat)"
   ]
  },
  {
   "cell_type": "code",
   "execution_count": 95,
   "metadata": {},
   "outputs": [
    {
     "name": "stdout",
     "output_type": "stream",
     "text": [
      "[[  1.00000000e+00  -2.28455375e-15   9.69278167e-15   5.19640292e-16\n",
      "    8.77519983e-15]\n",
      " [ -9.62848902e-15   1.00000000e+00  -2.57248311e-14  -1.90485784e-15\n",
      "    7.71765687e-15]\n",
      " [  1.12836375e-15   1.28646115e-14   1.00000000e+00  -2.54215521e-16\n",
      "   -9.69021297e-15]\n",
      " [  1.27659108e-14   1.29191983e-15  -2.68233175e-16   1.00000000e+00\n",
      "   -8.16636431e-16]\n",
      " [  9.53204876e-15  -9.31240805e-15   2.44900875e-15   3.18381339e-15\n",
      "    1.00000000e+00]]\n",
      "\n",
      "Identity Matrix: \n",
      "[[ 1.  0.  0.  0.  0.]\n",
      " [ 0.  1.  0.  0.  0.]\n",
      " [ 0.  0.  1.  0.  0.]\n",
      " [ 0.  0.  0.  1.  0.]\n",
      " [ 0.  0.  0.  0.  1.]]\n"
     ]
    }
   ],
   "source": [
    "print mat.dot(inv(mat)) \n",
    "print''\n",
    "print \"Identity Matrix:\",\"\\n\",np.rint(mat.dot(inv(mat))) \n",
    "# Becomes an identity matrix when you multiple Inner matrix by its inverse"
   ]
  },
  {
   "cell_type": "code",
   "execution_count": 116,
   "metadata": {},
   "outputs": [
    {
     "name": "stdout",
     "output_type": "stream",
     "text": [
      "[ 1.  1.  1.  1.  1.]\n",
      "5.0\n",
      "Determinant of matrix:  -2.0\n",
      "\n",
      "[[[1 2]\n",
      "  [3 4]]\n",
      "\n",
      " [[1 2]\n",
      "  [2 1]]\n",
      "\n",
      " [[1 3]\n",
      "  [3 1]]]\n",
      "Determinant of the matrices:  [-2. -3. -8.]\n",
      "\n",
      "Eigenvectors: \n",
      "(array([[-0.37228132,  5.37228132],\n",
      "       [ 3.        , -1.        ],\n",
      "       [ 4.        , -2.        ]]), array([[[-0.82456484, -0.41597356],\n",
      "        [ 0.56576746, -0.90937671]],\n",
      "\n",
      "       [[ 0.70710678, -0.70710678],\n",
      "        [ 0.70710678,  0.70710678]],\n",
      "\n",
      "       [[ 0.70710678, -0.70710678],\n",
      "        [ 0.70710678,  0.70710678]]]))\n"
     ]
    }
   ],
   "source": [
    "identity = np.rint(mat.dot(inv(mat))) \n",
    "\n",
    "# Retrieve the diagonal elements from a square matrix as a 1D array\n",
    "print np.diag(identity)\n",
    "\n",
    "# Compute the sum of the diagonal elements\n",
    "print np.trace(identity)\n",
    "\n",
    "# Compute the matrix determinant\n",
    "arr = np.arange(4).reshape(2,2)\n",
    "print \"Determinant of matrix: \", np.linalg.det(arr)\n",
    "# Another example\n",
    "print''\n",
    "a = np.array([ [[1, 2], [3, 4]], [[1, 2], [2, 1]], [[1, 3], [3, 1]] ])\n",
    "print a\n",
    "print \"Determinant of the matrices:\",'',np.linalg.det(a)\n",
    "print''\n",
    "\n",
    "# Calculate the eigenvalues and eigenvectors of a square matrix\n",
    "print \"Eigenvectors:\",\"\\n\",np.linalg.eig(a)"
   ]
  },
  {
   "cell_type": "code",
   "execution_count": 119,
   "metadata": {},
   "outputs": [
    {
     "name": "stdout",
     "output_type": "stream",
     "text": [
      "[[-6.82977363  3.65521487  1.61544479  2.22545714 -1.40619635]\n",
      " [ 0.         -0.92629782  3.08468588 -4.28429546  0.67057332]\n",
      " [ 0.          0.         -3.23483248  3.48359408 -2.28838134]\n",
      " [ 0.          0.          0.         -1.99062733 -0.54409875]\n",
      " [ 0.          0.          0.          0.          0.02023795]]\n",
      "\n",
      "[[-0.83252854 -0.12614009 -0.0365845  -0.06536505 -0.53420397]\n",
      " [ 0.4284516  -0.49618269 -0.34896408  0.3519537  -0.56972329]\n",
      " [ 0.23656153  0.61996339 -0.37586633 -0.483037   -0.43021366]\n",
      " [ 0.19175793 -0.49888879  0.38590159 -0.7428518  -0.11657635]\n",
      " [-0.17490851 -0.32349157 -0.76595699 -0.29445282  0.43745587]]\n"
     ]
    }
   ],
   "source": [
    "q, r = qr(mat)\n",
    "\n",
    "print r\n",
    "print''\n",
    "print q"
   ]
  },
  {
   "cell_type": "markdown",
   "metadata": {},
   "source": [
    "### Random Number Generation"
   ]
  },
  {
   "cell_type": "markdown",
   "metadata": {},
   "source": [
    "`numpy.random` module provides whole arrays of sample values from different kinds of probability distributions"
   ]
  },
  {
   "cell_type": "code",
   "execution_count": 126,
   "metadata": {},
   "outputs": [
    {
     "name": "stdout",
     "output_type": "stream",
     "text": [
      "[[ 0.81369624  0.47260929 -1.69542758  0.12338307]\n",
      " [-1.25890493  0.99454322 -0.7636952   0.06396738]\n",
      " [-0.15322813 -1.29329469  1.15387651 -0.51412826]\n",
      " [-0.64184537 -0.28487735 -2.30563504  0.39912537]]\n"
     ]
    }
   ],
   "source": [
    "# Return a 4x4 array of samples from a standard normal distribution using normal\n",
    "\n",
    "samples = np.random.normal(size=(4,4))\n",
    "print samples"
   ]
  },
  {
   "cell_type": "code",
   "execution_count": 127,
   "metadata": {},
   "outputs": [
    {
     "name": "stdout",
     "output_type": "stream",
     "text": [
      "[[ 0.07890544  0.16212604  0.23649292  0.53175503]\n",
      " [ 0.82264809  0.64595633  0.31380186  0.58712089]]\n"
     ]
    }
   ],
   "source": [
    "# Draw samples from a uniform distribution\n",
    "samples = np.random.rand(8).reshape(2,4)\n",
    "print samples"
   ]
  },
  {
   "cell_type": "code",
   "execution_count": 130,
   "metadata": {},
   "outputs": [
    {
     "name": "stdout",
     "output_type": "stream",
     "text": [
      "[28 77 89 24 31 19 51 41  5 42 44 35 23 34 49  6 77 88 78 48 83 74 50 59 57\n",
      " 29  7 42 77 33 76 53 90 66 39 50 84 46 12 14 87 74 96 42 58 40 59 85 72 93\n",
      "  3 96  5 55 62 12 23 82 27 97 35 42 49 83 68 11 78 25 68 91 62 31 20 27 15\n",
      " 14 31 65 11  1 19 50 41 71 23 88  5 18 57 16  1 77 83 25 55 53 29 17 16 79]\n"
     ]
    }
   ],
   "source": [
    "# Draw sample from a given low to high range with parameters: (low, high=None, size=None, dtype='l')\n",
    "\n",
    "print np.random.randint(0,high=100,size=100)"
   ]
  },
  {
   "cell_type": "code",
   "execution_count": 134,
   "metadata": {},
   "outputs": [
    {
     "name": "stdout",
     "output_type": "stream",
     "text": [
      "[  6.15726118   8.45996793   8.18585131  10.17199982  14.91242945\n",
      "   6.40009675   6.09334898  10.95418069  11.31603915   7.96804831\n",
      "  15.58553698   8.77145325   7.9856113    6.79911994   4.64713197\n",
      "   6.17292514  12.86917202  24.266456     9.63136479  10.22511903\n",
      "   8.25870989   6.26336658   6.330398    15.45797333   5.91758537\n",
      "  13.55481199  12.36062908   5.61693483   7.79958091   6.57494748\n",
      "  13.63562656   5.98252559   8.95040865  12.97043056   5.62752669\n",
      "  11.30853827   7.63598786  16.25954407   5.70329712   2.20900636\n",
      "   6.88306536  17.78085994   6.47969926  11.59154448   7.75949431\n",
      "  19.08057599   5.80539818  24.32356968   5.82730183   4.3688964\n",
      "  14.10227913   5.59197415  10.88705702   4.39350512   7.40903364\n",
      "   9.52864581   8.19335475   7.9363302    4.69269732  12.77377056\n",
      "  20.99083292  15.01625468   5.691151     5.98533936   2.61268416\n",
      "   5.25665389  22.1594896    7.52444235  14.79162866  22.79632749\n",
      "   7.95075973   9.87675986   9.80925996   6.4371524    9.84734178\n",
      "   9.12616903   9.66201372   8.41185473  15.49050991  16.19374818\n",
      "  14.60400278   6.27824534   8.85765137  14.58150296   6.66039146\n",
      "   5.22170978   9.79295869  19.8845563    6.11314959  13.81040992\n",
      "  18.89495419   5.71314632  13.08652946   8.6282561    6.51964408\n",
      "   9.40452574  11.07685727   7.72343382   4.07726286  10.42694303]\n"
     ]
    }
   ],
   "source": [
    "# Draw samples from a chi-square distribution with parameters : (df, size=None) as in degrees of freedom\n",
    "\n",
    "print np.random.chisquare(10,size=100)"
   ]
  },
  {
   "cell_type": "code",
   "execution_count": 136,
   "metadata": {},
   "outputs": [
    {
     "name": "stdout",
     "output_type": "stream",
     "text": [
      "[ 0.64419279  0.72023621  0.50224517  0.60981581  0.96531622  0.80886793\n",
      "  0.21554368  0.3366486   0.86566622  0.90945398]\n"
     ]
    }
   ],
   "source": [
    "# Draw from a uniform (0,1) distribution with parameters: (low=0.0, high=1.0, size=None)\n",
    "\n",
    "print np.random.uniform(size = 10)"
   ]
  },
  {
   "cell_type": "markdown",
   "metadata": {},
   "source": [
    "### Example: Random Walks"
   ]
  },
  {
   "cell_type": "code",
   "execution_count": 142,
   "metadata": {},
   "outputs": [
    {
     "name": "stdout",
     "output_type": "stream",
     "text": [
      "[0 0 0 0 1 0 1 1 1 0 1 1 1 0 0 1 1 1 0 1 0 1 0 1 1 1 0 0 0 0 1 1 1 0 1 0 0\n",
      " 0 1 0 1 0 1 1 1 0 0 0 0 1 0 0 0 0 1 0 1 1 1 0 0 1 1 1 0 1 1 1 1 1 1 1 1 0\n",
      " 0 1 0 0 0 1 1 0 0 1 1 1 0 0 1 1 1 0 1 1 0 1 0 1 0 1 1 1 0 1 0 1 0 1 1 1 1\n",
      " 1 1 0 0 1 1 0 0 0 1 1 1 0 0 1 0 1 1 1 0 1 1 0 1 0 0 1 1 0 1 1 1 0 1 0 1 1\n",
      " 0 1 0 1 1 1 0 1 1 0 1 0 0 0 1 0 1 1 0 0 1 1 0 0 1 1 0 0 1 0 0 0 0 0 1 1 1\n",
      " 0 0 0 0 1 0 1 1 0 0 0 0 1 0 1 0 0 0 1 1 1 0 1 0 0 1 1 1 1 0 1 1 1 1 1 0 1\n",
      " 0 0 0 1 1 1 0 0 1 1 0 1 1 1 1 1 0 0 1 0 0 0 0 1 0 1 1 0 0 1 0 1 0 1 1 1 0\n",
      " 0 0 0 0 1 1 1 1 1 1 1 1 1 0 0 0 0 0 1 1 1 1 1 1 1 0 0 1 0 0 1 0 0 1 0 0 1\n",
      " 0 0 1 1 0 0 1 1 1 1 1 1 1 0 0 0 0 1 0 1 1 0 0 1 1 0 1 1 1 1 0 0 1 1 0 0 0\n",
      " 1 0 0 0 1 1 1 1 1 1 1 0 0 1 0 1 0 0 0 1 0 1 0 0 1 1 0 1 0 0 1 1 0 1 1 1 1\n",
      " 1 0 1 0 1 1 0 0 0 0 1 1 1 1 0 1 0 0 0 0 0 0 0 1 1 0 1 1 1 0 0 1 1 1 1 0 0\n",
      " 0 0 0 1 1 1 1 0 0 1 1 0 1 1 1 0 1 1 1 0 0 0 0 1 0 0 0 1 1 1 0 0 0 0 0 0 1\n",
      " 0 1 1 0 1 0 0 1 0 0 0 1 0 0 0 1 0 1 0 1 1 1 1 0 1 1 1 1 1 0 0 0 0 0 1 0 1\n",
      " 0 1 1 0 0 0 1 0 1 0 1 0 0 0 1 1 0 0 1 0 0 0 1 0 0 0 0 0 1 0 1 1 1 1 1 0 1\n",
      " 1 0 0 0 0 1 1 0 0 0 0 1 0 0 1 0 1 1 1 0 1 0 0 0 1 0 1 1 1 1 0 0 0 0 0 0 1\n",
      " 0 1 0 0 1 0 0 0 0 0 0 1 0 0 0 0 1 1 0 1 0 0 1 0 0 1 1 1 0 0 1 1 0 0 1 0 0\n",
      " 0 0 1 1 0 1 1 1 0 1 0 0 1 1 0 1 0 0 1 1 1 0 0 1 0 0 1 0 1 1 0 0 0 1 1 0 0\n",
      " 1 1 0 1 1 0 0 1 0 1 0 1 0 1 1 0 1 1 1 0 0 1 1 0 1 1 0 0 0 1 1 0 0 1 0 1 1\n",
      " 1 1 1 1 1 0 1 1 0 0 1 0 0 1 1 0 1 0 0 0 1 0 1 0 0 1 1 1 0 0 0 0 1 1 0 1 1\n",
      " 0 0 0 0 0 0 0 1 0 0 1 0 1 0 1 0 1 1 0 0 1 0 1 0 0 1 0 1 1 1 0 0 0 1 1 1 0\n",
      " 0 0 0 1 0 0 0 0 1 1 1 0 0 1 1 1 0 0 0 0 1 0 1 0 0 1 0 0 0 1 0 1 0 1 0 0 1\n",
      " 0 0 1 1 1 1 1 0 0 0 1 0 1 0 1 0 1 0 0 0 1 0 1 1 1 0 1 0 1 0 0 0 1 1 1 1 1\n",
      " 0 0 0 0 1 0 0 0 1 0 0 0 1 0 0 0 1 0 1 0 1 0 1 1 0 0 0 1 0 0 1 1 1 0 1 1 0\n",
      " 1 0 0 0 1 1 1 1 1 0 0 0 0 1 1 1 1 0 0 1 0 1 1 0 0 0 1 0 1 1 1 1 1 0 0 0 0\n",
      " 0 0 0 0 0 0 0 1 0 0 1 0 0 0 0 0 1 1 1 1 1 1 0 1 0 1 0 1 1 1 0 0 0 0 1 1 1\n",
      " 0 0 1 0 1 0 1 1 1 0 1 1 0 1 0 1 1 0 0 0 1 0 0 1 1 0 1 1 1 1 0 1 1 1 1 0 0\n",
      " 1 0 1 1 0 1 1 1 1 0 1 1 1 1 1 0 1 0 1 1 0 0 1 0 0 0 1 0 1 0 0 1 1 0 1 0 0\n",
      " 0]\n",
      "[-1 -1 -1 -1  1 -1  1  1  1 -1  1  1  1 -1 -1  1  1  1 -1  1 -1  1 -1  1  1\n",
      "  1 -1 -1 -1 -1  1  1  1 -1  1 -1 -1 -1  1 -1  1 -1  1  1  1 -1 -1 -1 -1  1\n",
      " -1 -1 -1 -1  1 -1  1  1  1 -1 -1  1  1  1 -1  1  1  1  1  1  1  1  1 -1 -1\n",
      "  1 -1 -1 -1  1  1 -1 -1  1  1  1 -1 -1  1  1  1 -1  1  1 -1  1 -1  1 -1  1\n",
      "  1  1 -1  1 -1  1 -1  1  1  1  1  1  1 -1 -1  1  1 -1 -1 -1  1  1  1 -1 -1\n",
      "  1 -1  1  1  1 -1  1  1 -1  1 -1 -1  1  1 -1  1  1  1 -1  1 -1  1  1 -1  1\n",
      " -1  1  1  1 -1  1  1 -1  1 -1 -1 -1  1 -1  1  1 -1 -1  1  1 -1 -1  1  1 -1\n",
      " -1  1 -1 -1 -1 -1 -1  1  1  1 -1 -1 -1 -1  1 -1  1  1 -1 -1 -1 -1  1 -1  1\n",
      " -1 -1 -1  1  1  1 -1  1 -1 -1  1  1  1  1 -1  1  1  1  1  1 -1  1 -1 -1 -1\n",
      "  1  1  1 -1 -1  1  1 -1  1  1  1  1  1 -1 -1  1 -1 -1 -1 -1  1 -1  1  1 -1\n",
      " -1  1 -1  1 -1  1  1  1 -1 -1 -1 -1 -1  1  1  1  1  1  1  1  1  1 -1 -1 -1\n",
      " -1 -1  1  1  1  1  1  1  1 -1 -1  1 -1 -1  1 -1 -1  1 -1 -1  1 -1 -1  1  1\n",
      " -1 -1  1  1  1  1  1  1  1 -1 -1 -1 -1  1 -1  1  1 -1 -1  1  1 -1  1  1  1\n",
      "  1 -1 -1  1  1 -1 -1 -1  1 -1 -1 -1  1  1  1  1  1  1  1 -1 -1  1 -1  1 -1\n",
      " -1 -1  1 -1  1 -1 -1  1  1 -1  1 -1 -1  1  1 -1  1  1  1  1  1 -1  1 -1  1\n",
      "  1 -1 -1 -1 -1  1  1  1  1 -1  1 -1 -1 -1 -1 -1 -1 -1  1  1 -1  1  1  1 -1\n",
      " -1  1  1  1  1 -1 -1 -1 -1 -1  1  1  1  1 -1 -1  1  1 -1  1  1  1 -1  1  1\n",
      "  1 -1 -1 -1 -1  1 -1 -1 -1  1  1  1 -1 -1 -1 -1 -1 -1  1 -1  1  1 -1  1 -1\n",
      " -1  1 -1 -1 -1  1 -1 -1 -1  1 -1  1 -1  1  1  1  1 -1  1  1  1  1  1 -1 -1\n",
      " -1 -1 -1  1 -1  1 -1  1  1 -1 -1 -1  1 -1  1 -1  1 -1 -1 -1  1  1 -1 -1  1\n",
      " -1 -1 -1  1 -1 -1 -1 -1 -1  1 -1  1  1  1  1  1 -1  1  1 -1 -1 -1 -1  1  1\n",
      " -1 -1 -1 -1  1 -1 -1  1 -1  1  1  1 -1  1 -1 -1 -1  1 -1  1  1  1  1 -1 -1\n",
      " -1 -1 -1 -1  1 -1  1 -1 -1  1 -1 -1 -1 -1 -1 -1  1 -1 -1 -1 -1  1  1 -1  1\n",
      " -1 -1  1 -1 -1  1  1  1 -1 -1  1  1 -1 -1  1 -1 -1 -1 -1  1  1 -1  1  1  1\n",
      " -1  1 -1 -1  1  1 -1  1 -1 -1  1  1  1 -1 -1  1 -1 -1  1 -1  1  1 -1 -1 -1\n",
      "  1  1 -1 -1  1  1 -1  1  1 -1 -1  1 -1  1 -1  1 -1  1  1 -1  1  1  1 -1 -1\n",
      "  1  1 -1  1  1 -1 -1 -1  1  1 -1 -1  1 -1  1  1  1  1  1  1  1 -1  1  1 -1\n",
      " -1  1 -1 -1  1  1 -1  1 -1 -1 -1  1 -1  1 -1 -1  1  1  1 -1 -1 -1 -1  1  1\n",
      " -1  1  1 -1 -1 -1 -1 -1 -1 -1  1 -1 -1  1 -1  1 -1  1 -1  1  1 -1 -1  1 -1\n",
      "  1 -1 -1  1 -1  1  1  1 -1 -1 -1  1  1  1 -1 -1 -1 -1  1 -1 -1 -1 -1  1  1\n",
      "  1 -1 -1  1  1  1 -1 -1 -1 -1  1 -1  1 -1 -1  1 -1 -1 -1  1 -1  1 -1  1 -1\n",
      " -1  1 -1 -1  1  1  1  1  1 -1 -1 -1  1 -1  1 -1  1 -1  1 -1 -1 -1  1 -1  1\n",
      "  1  1 -1  1 -1  1 -1 -1 -1  1  1  1  1  1 -1 -1 -1 -1  1 -1 -1 -1  1 -1 -1\n",
      " -1  1 -1 -1 -1  1 -1  1 -1  1 -1  1  1 -1 -1 -1  1 -1 -1  1  1  1 -1  1  1\n",
      " -1  1 -1 -1 -1  1  1  1  1  1 -1 -1 -1 -1  1  1  1  1 -1 -1  1 -1  1  1 -1\n",
      " -1 -1  1 -1  1  1  1  1  1 -1 -1 -1 -1 -1 -1 -1 -1 -1 -1 -1  1 -1 -1  1 -1\n",
      " -1 -1 -1 -1  1  1  1  1  1  1 -1  1 -1  1 -1  1  1  1 -1 -1 -1 -1  1  1  1\n",
      " -1 -1  1 -1  1 -1  1  1  1 -1  1  1 -1  1 -1  1  1 -1 -1 -1  1 -1 -1  1  1\n",
      " -1  1  1  1  1 -1  1  1  1  1 -1 -1  1 -1  1  1 -1  1  1  1  1 -1  1  1  1\n",
      "  1  1 -1  1 -1  1  1 -1 -1  1 -1 -1 -1  1 -1  1 -1 -1  1  1 -1  1 -1 -1 -1]\n"
     ]
    }
   ],
   "source": [
    "nsteps = 1000 \n",
    "\n",
    "draws = np.random.randint(0,2,size=nsteps)\n",
    "print draws\n",
    "steps = np.where(draws > 0 , 1, -1)\n",
    "print steps\n",
    "walk = steps.cumsum()\n"
   ]
  },
  {
   "cell_type": "code",
   "execution_count": 141,
   "metadata": {},
   "outputs": [
    {
     "name": "stdout",
     "output_type": "stream",
     "text": [
      "[ 1  2  3  2  3  2  3  2  1  2  1  2  3  4  5  4  3  4  5  4  5  6  5  6  7\n",
      "  6  5  6  7  8  7  8  7  8  7  6  7  6  5  6  7  8  7  8  9  8  7  6  5  6\n",
      "  5  6  5  4  5  4  5  6  5  6  5  4  5  4  3  2  3  4  3  4  5  4  3  4  5\n",
      "  6  5  4  5  4  3  4  5  6  5  6  7  8  9  8  9  8  9  8  7  8  9  8  9  8\n",
      "  7  8  9 10  9  8  7  8  9 10 11 12 11 10  9  8  7  8  7  6  5  4  5  6  7\n",
      "  8  7  6  5  4  5  6  5  4  5  6  5  6  5  6  7  8  9 10 11 12 11 12 11 12\n",
      " 13 14 15 16 17 18 17 18 17 18 19 20 21 22 21 20 21 20 19 20 21 22 21 22 23\n",
      " 22 23 24 25 26 25 26 27 26 27 28 29 28 29 30 29 28 27 26 25 24 25 26 25 24\n",
      " 23 24 23 24 23 24 25 26 25 24 25 24 23 24 23 22 23 24 23 24 23 24 23 22 21\n",
      " 20 19 20 19 18 19 18 17 16 15 16 15 16 17 16 15 14 15 16 15 16 15 16 15 14\n",
      " 13 14 15 16 17 18 19 18 19 18 19 18 19 18 17 18 19 20 21 20 19 18 17 16 15\n",
      " 14 13 14 15 16 15 14 15 16 17 18 19 18 19 20 21 20 19 20 19 18 19 18 19 20\n",
      " 21 20 19 20 19 18 19 20 21 22 21 20 21 20 19 20 19 18 17 16 15 16 15 14 13\n",
      " 12 13 14 15 14 13 14 13 12 11 12 11 10  9  8  9  8  9  8  9  8  9 10 11 10\n",
      " 11 12 13 12 13 14 13 12 11 12 11 12 11 10  9  8  9 10 11 12 13 12 11 12 13\n",
      " 14 13 12 13 14 15 16 15 16 17 18 19 18 17 18 17 18 17 16 15 14 15 16 15 14\n",
      " 15 16 15 16 17 18 17 16 17 16 15 14 13 14 13 14 13 14 13 12 11 12 13 14 13\n",
      " 14 15 16 15 16 15 16 17 16 15 14 15 14 13 12 11 12 11 12 11 10  9 10  9 10\n",
      "  9 10  9  8  7  6  5  6  5  4  5  4  3  4  3  4  5  4  5  4  5  4  5  6  7\n",
      "  8  9  8  7  8  7  6  5  4  3  4  3  2  3  2  1  2  1  0  1  2  1  2  3  4\n",
      "  5  4  3  4  3  4  3  4  5  6  7  6  5  6  5  6  7  8  7  6  7  6  5  6  5\n",
      "  4  5  4  5  6  7  8  7  6  7  8  7  6  5  6  7  6  5  6  5  4  5  4  5  4\n",
      "  5  6  7  8  9  8  7  8  9 10  9 10  9  8  7  8  7  6  5  6  5  4  5  6  7\n",
      "  8  9 10  9  8  7  8  7  6  7  6  5  6  7  8  7  6  7  6  7  8  9 10 11 10\n",
      "  9 10  9 10 11 12 13 12 13 14 13 12 13 14 15 16 17 18 17 18 17 16 15 16 17\n",
      " 18 17 16 17 16 17 18 19 18 19 18 17 18 19 20 19 20 19 20 21 20 19 20 21 20\n",
      " 21 22 23 24 23 22 21 20 19 20 21 20 21 20 19 18 19 20 21 20 21 22 21 20 21\n",
      " 20 21 20 21 22 23 24 25 24 23 24 23 24 25 26 27 28 27 28 29 30 29 30 29 30\n",
      " 29 30 31 30 31 32 33 32 33 34 35 36 35 34 33 34 33 34 35 36 35 34 33 34 33\n",
      " 34 33 32 31 32 33 32 31 32 31 30 31 32 31 32 31 32 33 34 35 36 35 34 33 32\n",
      " 31 32 33 32 33 32 33 32 33 34 35 34 35 34 35 34 33 34 35 36 35 34 33 34 33\n",
      " 32 31 32 33 34 35 36 37 36 37 36 37 38 39 40 39 40 39 38 39 40 39 38 37 36\n",
      " 35 34 35 34 35 36 37 36 37 38 37 38 37 38 37 36 35 34 35 36 37 36 37 36 37\n",
      " 38 37 36 35 34 35 36 35 36 35 34 35 34 35 36 35 36 35 34 33 32 33 32 31 32\n",
      " 31 30 31 32 31 30 29 30 29 28 27 28 29 30 31 30 29 30 29 28 29 30 29 30 31\n",
      " 30 29 30 29 28 27 26 27 28 27 28 29 28 29 28 29 28 29 30 31 32 31 30 29 28\n",
      " 29 28 27 26 27 26 27 26 27 26 27 28 29 30 31 32 33 34 33 34 33 32 31 30 29\n",
      " 28 29 30 29 30 31 30 29 30 29 30 31 30 31 30 31 32 33 32 31 30 29 28 29 30\n",
      " 31 30 29 28 29 28 27 28 27 26 27 28 27 28 29 30 31 32 31 32 31 30 29 28 29\n",
      " 28 27 28 27 28 29 28 27 28 29 30 31 30 29 28 27 28 29 28 27 28 27 28 27 28]\n"
     ]
    }
   ],
   "source": [
    "print walk"
   ]
  },
  {
   "cell_type": "code",
   "execution_count": 144,
   "metadata": {},
   "outputs": [
    {
     "name": "stdout",
     "output_type": "stream",
     "text": [
      "-22 36\n"
     ]
    }
   ],
   "source": [
    "print walk.min(), walk.max()"
   ]
  },
  {
   "cell_type": "code",
   "execution_count": 145,
   "metadata": {},
   "outputs": [
    {
     "data": {
      "text/plain": [
       "array([False, False, False, False, False, False, False, False, False,\n",
       "       False, False, False, False, False, False, False, False, False,\n",
       "       False, False, False, False, False, False, False, False, False,\n",
       "       False, False, False, False, False, False, False, False, False,\n",
       "       False, False, False, False, False, False, False, False, False,\n",
       "       False, False, False, False, False, False, False, False, False,\n",
       "       False, False, False, False, False, False, False, False, False,\n",
       "       False, False, False, False, False, False, False, False, False,\n",
       "       False, False, False, False, False, False, False, False, False,\n",
       "       False, False, False, False, False, False, False, False, False,\n",
       "       False, False, False, False, False, False, False, False, False,\n",
       "       False, False,  True, False,  True, False,  True, False,  True,\n",
       "        True,  True,  True,  True,  True,  True,  True,  True,  True,\n",
       "        True,  True,  True,  True,  True,  True,  True,  True,  True,\n",
       "        True,  True,  True,  True,  True,  True,  True,  True,  True,\n",
       "        True,  True,  True,  True,  True,  True,  True,  True,  True,\n",
       "        True,  True,  True,  True,  True,  True,  True,  True,  True,\n",
       "        True,  True,  True,  True,  True,  True,  True,  True,  True,\n",
       "        True,  True,  True,  True,  True,  True,  True,  True,  True,\n",
       "        True,  True,  True,  True,  True,  True,  True,  True,  True,\n",
       "        True,  True,  True,  True,  True,  True,  True,  True,  True,\n",
       "        True,  True,  True,  True,  True,  True,  True,  True,  True,\n",
       "        True,  True,  True,  True,  True,  True,  True,  True,  True,\n",
       "        True,  True,  True,  True,  True,  True,  True,  True,  True,\n",
       "        True,  True,  True,  True,  True,  True,  True,  True,  True,\n",
       "        True,  True,  True,  True,  True,  True,  True,  True,  True,\n",
       "        True,  True,  True,  True,  True,  True,  True,  True,  True,\n",
       "        True,  True,  True,  True,  True,  True,  True,  True,  True,\n",
       "        True,  True,  True,  True,  True,  True,  True,  True,  True,\n",
       "        True,  True,  True,  True,  True,  True,  True,  True,  True,\n",
       "        True,  True,  True,  True,  True,  True,  True,  True,  True,\n",
       "        True,  True,  True,  True,  True,  True,  True,  True,  True,\n",
       "        True,  True,  True,  True,  True,  True,  True,  True,  True,\n",
       "        True,  True,  True,  True,  True,  True,  True,  True,  True,\n",
       "        True,  True,  True,  True,  True,  True,  True,  True,  True,\n",
       "        True,  True,  True,  True,  True,  True,  True,  True,  True,\n",
       "        True,  True,  True,  True,  True,  True,  True,  True,  True,\n",
       "        True,  True,  True,  True,  True,  True,  True,  True,  True,\n",
       "        True,  True,  True,  True,  True,  True,  True,  True,  True,\n",
       "        True,  True,  True,  True,  True,  True,  True,  True,  True,\n",
       "        True,  True,  True,  True,  True,  True,  True,  True,  True,\n",
       "        True,  True,  True,  True,  True,  True,  True,  True,  True,\n",
       "        True,  True,  True,  True,  True,  True,  True,  True,  True,\n",
       "        True,  True,  True,  True,  True,  True,  True,  True,  True,\n",
       "        True,  True,  True,  True,  True,  True,  True,  True,  True,\n",
       "        True,  True,  True,  True,  True,  True,  True,  True,  True,\n",
       "        True,  True,  True,  True,  True,  True,  True,  True,  True,\n",
       "        True,  True,  True,  True,  True,  True,  True,  True,  True,\n",
       "        True,  True,  True,  True,  True,  True,  True,  True,  True,\n",
       "        True,  True,  True,  True,  True,  True,  True,  True,  True,\n",
       "        True,  True,  True,  True,  True,  True,  True,  True,  True,\n",
       "        True,  True,  True,  True,  True,  True,  True,  True,  True,\n",
       "        True,  True,  True,  True,  True,  True,  True,  True,  True,\n",
       "        True,  True,  True,  True,  True,  True,  True,  True,  True,\n",
       "        True,  True,  True,  True,  True,  True,  True,  True,  True,\n",
       "        True,  True,  True,  True,  True,  True,  True,  True,  True,\n",
       "        True,  True,  True,  True,  True,  True,  True,  True,  True,\n",
       "        True,  True,  True,  True,  True,  True,  True,  True,  True,\n",
       "        True,  True,  True,  True,  True,  True,  True,  True,  True,\n",
       "        True,  True,  True,  True,  True,  True,  True,  True,  True,\n",
       "        True,  True,  True,  True,  True,  True,  True,  True,  True,\n",
       "        True,  True,  True,  True,  True,  True,  True,  True,  True,\n",
       "        True,  True,  True,  True,  True,  True, False, False, False,\n",
       "       False, False, False, False, False, False, False, False, False,\n",
       "       False, False, False, False, False, False, False, False, False,\n",
       "       False, False, False, False, False, False, False, False, False,\n",
       "       False, False, False, False, False, False, False, False, False,\n",
       "       False, False, False, False, False, False, False, False, False,\n",
       "       False, False, False, False, False, False, False, False, False,\n",
       "       False, False, False, False, False, False, False, False, False,\n",
       "       False, False, False, False, False, False, False, False, False,\n",
       "       False, False, False, False, False, False, False, False, False,\n",
       "       False, False, False, False, False, False, False, False, False,\n",
       "       False, False, False, False, False, False, False, False, False,\n",
       "       False,  True,  True,  True,  True,  True,  True,  True,  True,\n",
       "        True,  True,  True,  True,  True,  True,  True,  True,  True,\n",
       "        True,  True,  True,  True,  True,  True, False,  True,  True,\n",
       "        True,  True,  True, False, False, False,  True, False,  True,\n",
       "        True,  True, False, False, False, False, False, False, False,\n",
       "       False, False, False, False, False, False, False, False, False,\n",
       "       False, False, False, False, False, False, False, False, False,\n",
       "       False, False, False, False, False, False, False, False, False,\n",
       "       False, False, False, False, False, False, False, False, False,\n",
       "       False, False, False, False, False, False, False, False, False,\n",
       "       False, False, False, False, False, False, False, False, False,\n",
       "       False, False, False, False, False, False, False, False, False,\n",
       "       False, False, False, False, False, False, False, False, False,\n",
       "       False, False, False, False, False, False, False, False, False,\n",
       "       False, False, False, False, False, False, False, False, False,\n",
       "       False, False, False, False, False, False, False, False, False,\n",
       "       False, False, False, False, False, False, False, False, False,\n",
       "       False, False, False, False, False, False,  True, False,  True,\n",
       "        True,  True,  True,  True,  True,  True,  True,  True,  True,\n",
       "        True,  True,  True,  True,  True,  True,  True,  True,  True,\n",
       "        True,  True,  True,  True,  True,  True,  True,  True,  True,\n",
       "        True,  True,  True, False, False, False,  True,  True,  True,\n",
       "        True,  True, False, False, False,  True, False,  True, False,\n",
       "       False, False,  True,  True,  True,  True,  True, False, False,\n",
       "       False, False, False, False, False,  True,  True,  True,  True,\n",
       "        True,  True,  True,  True,  True,  True,  True,  True,  True,\n",
       "        True,  True,  True,  True,  True,  True,  True,  True,  True,\n",
       "        True,  True,  True,  True,  True,  True,  True,  True,  True,\n",
       "        True,  True,  True,  True,  True,  True,  True,  True,  True,\n",
       "        True,  True,  True,  True,  True,  True,  True,  True,  True,\n",
       "        True,  True,  True,  True,  True,  True,  True,  True,  True,\n",
       "        True,  True,  True,  True,  True,  True,  True,  True,  True,\n",
       "        True,  True,  True,  True, False, False, False,  True, False,\n",
       "        True, False, False, False, False, False, False, False, False,\n",
       "       False, False, False, False, False, False, False, False, False,\n",
       "       False, False, False, False, False, False, False, False, False,\n",
       "       False, False, False, False, False, False, False, False, False, False], dtype=bool)"
      ]
     },
     "execution_count": 145,
     "metadata": {},
     "output_type": "execute_result"
    }
   ],
   "source": [
    "# How long did it took the random walk to get to at least 10 steps away from the origin 0 in either direction?\n",
    "\n",
    "np.abs(walk) >=10"
   ]
  },
  {
   "cell_type": "code",
   "execution_count": 153,
   "metadata": {},
   "outputs": [
    {
     "name": "stdout",
     "output_type": "stream",
     "text": [
      "Point at which 10 steps  were taken from 0:  101\n"
     ]
    }
   ],
   "source": [
    "print \"Point at which 10 steps  were taken from 0: \",(np.abs(walk) >= 10).argmax()"
   ]
  },
  {
   "cell_type": "markdown",
   "metadata": {},
   "source": [
    "#### Example: Simulating Many Random Walks/Trials at Once"
   ]
  },
  {
   "cell_type": "code",
   "execution_count": 155,
   "metadata": {},
   "outputs": [
    {
     "data": {
      "text/plain": [
       "array([[1, 1, 0, ..., 0, 1, 1],\n",
       "       [0, 0, 0, ..., 1, 1, 0],\n",
       "       [1, 1, 1, ..., 0, 0, 1],\n",
       "       ..., \n",
       "       [0, 0, 0, ..., 0, 1, 1],\n",
       "       [1, 0, 0, ..., 1, 1, 0],\n",
       "       [0, 1, 0, ..., 0, 0, 1]])"
      ]
     },
     "execution_count": 155,
     "metadata": {},
     "output_type": "execute_result"
    }
   ],
   "source": [
    "nwalks = 5000\n",
    "\n",
    "nsteps = 1000\n",
    "# Pass a 2-tuple to generate a 2D array of draws\n",
    "draws = np.random.randint(0,2, size=(nwalks, nsteps))\n",
    "draws"
   ]
  },
  {
   "cell_type": "code",
   "execution_count": 157,
   "metadata": {},
   "outputs": [
    {
     "data": {
      "text/plain": [
       "array([[  1,   2,   1, ..., -10,  -9,  -8],\n",
       "       [ -1,  -2,  -3, ..., -80, -79, -80],\n",
       "       [  1,   2,   3, ...,  22,  21,  22],\n",
       "       ..., \n",
       "       [ -1,  -2,  -3, ...,  46,  47,  48],\n",
       "       [  1,   0,  -1, ...,   6,   7,   6],\n",
       "       [ -1,   0,  -1, ...,  46,  45,  46]])"
      ]
     },
     "execution_count": 157,
     "metadata": {},
     "output_type": "execute_result"
    }
   ],
   "source": [
    "steps = np.where(draws > 0 , 1, -1)\n",
    "\n",
    "walks = steps.cumsum(1)\n",
    "\n",
    "walks"
   ]
  },
  {
   "cell_type": "code",
   "execution_count": 158,
   "metadata": {},
   "outputs": [
    {
     "name": "stdout",
     "output_type": "stream",
     "text": [
      "124 -118\n"
     ]
    }
   ],
   "source": [
    "print walks.max(), walks.min()"
   ]
  },
  {
   "cell_type": "code",
   "execution_count": 160,
   "metadata": {},
   "outputs": [
    {
     "data": {
      "text/plain": [
       "array([False,  True, False, ...,  True, False,  True], dtype=bool)"
      ]
     },
     "execution_count": 160,
     "metadata": {},
     "output_type": "execute_result"
    }
   ],
   "source": [
    "hits30 = (np.abs(walks) >= 30).any(1) #First to hit 30\n",
    "hits30"
   ]
  },
  {
   "cell_type": "code",
   "execution_count": 161,
   "metadata": {},
   "outputs": [
    {
     "data": {
      "text/plain": [
       "3362"
      ]
     },
     "execution_count": 161,
     "metadata": {},
     "output_type": "execute_result"
    }
   ],
   "source": [
    "hits30.sum()"
   ]
  },
  {
   "cell_type": "code",
   "execution_count": 164,
   "metadata": {},
   "outputs": [
    {
     "data": {
      "text/plain": [
       "499.45508625817968"
      ]
     },
     "execution_count": 164,
     "metadata": {},
     "output_type": "execute_result"
    }
   ],
   "source": [
    "crossing_times = (np.abs(walks[hits30]) >=30).argmax(1) # Returns index of max element\n",
    "\n",
    "crossing_times.mean()"
   ]
  }
 ],
 "metadata": {
  "kernelspec": {
   "display_name": "Python 2",
   "language": "python",
   "name": "python2"
  },
  "language_info": {
   "codemirror_mode": {
    "name": "ipython",
    "version": 2
   },
   "file_extension": ".py",
   "mimetype": "text/x-python",
   "name": "python",
   "nbconvert_exporter": "python",
   "pygments_lexer": "ipython2",
   "version": "2.7.13"
  }
 },
 "nbformat": 4,
 "nbformat_minor": 2
}
